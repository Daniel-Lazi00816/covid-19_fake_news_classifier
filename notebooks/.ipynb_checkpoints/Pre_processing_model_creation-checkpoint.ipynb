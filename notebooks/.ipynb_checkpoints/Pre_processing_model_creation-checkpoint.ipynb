{
 "cells": [
  {
   "cell_type": "code",
   "execution_count": 1,
   "metadata": {},
   "outputs": [],
   "source": [
    "#Basic Imports \n",
    "import pandas as pd\n",
    "import numpy as np\n",
    "import seaborn as sns \n",
    "import matplotlib.pyplot as plt\n",
    "from matplotlib import rcParams\n",
    "\n",
    "#Natural Language Processing \n",
    "import nltk\n",
    "import re \n",
    "from wordcloud import WordCloud, STOPWORDS\n",
    "from nltk.stem import WordNetLemmatizer\n",
    "from nltk.stem.porter import PorterStemmer\n",
    "from nltk.tokenize import RegexpTokenizer\n",
    "\n",
    "#Sklearn\n",
    "from nltk.corpus import stopwords\n",
    "from sklearn.pipeline import Pipeline\n",
    "from sklearn.feature_extraction.text import CountVectorizer, TfidfVectorizer\n",
    "from sklearn.naive_bayes import GaussianNB\n",
    "from sklearn.linear_model import LogisticRegression\n",
    "from sklearn.model_selection import train_test_split, GridSearchCV\n",
    "\n",
    "#Classifiers and Models\n",
    "from sklearn.metrics import confusion_matrix\n",
    "from sklearn.tree import DecisionTreeClassifier\n",
    "from sklearn.ensemble import RandomForestClassifier\n",
    "from xgboost import XGBClassifier\n",
    "from sklearn.naive_bayes import GaussianNB\n",
    "from sklearn.linear_model import LogisticRegression\n",
    "\n",
    "#Model Evaluation and Interpretation\n",
    "import shap\n",
    "from sklearn.metrics import confusion_matrix, classification_report, precision_score, accuracy_score, recall_score, f1_score, precision_recall_curve, roc_curve, roc_auc_score\n",
    "\n",
    "#Ignore Any Warnings\n",
    "import warnings\n",
    "warnings.filterwarnings(\"ignore\")\n"
   ]
  },
  {
   "cell_type": "code",
   "execution_count": 3,
   "metadata": {},
   "outputs": [
    {
     "data": {
      "text/html": [
       "<div>\n",
       "<style scoped>\n",
       "    .dataframe tbody tr th:only-of-type {\n",
       "        vertical-align: middle;\n",
       "    }\n",
       "\n",
       "    .dataframe tbody tr th {\n",
       "        vertical-align: top;\n",
       "    }\n",
       "\n",
       "    .dataframe thead th {\n",
       "        text-align: right;\n",
       "    }\n",
       "</style>\n",
       "<table border=\"1\" class=\"dataframe\">\n",
       "  <thead>\n",
       "    <tr style=\"text-align: right;\">\n",
       "      <th></th>\n",
       "      <th>Text</th>\n",
       "      <th>Label</th>\n",
       "      <th>Text_as_list</th>\n",
       "    </tr>\n",
       "    <tr>\n",
       "      <th>Unnamed: 0</th>\n",
       "      <th></th>\n",
       "      <th></th>\n",
       "      <th></th>\n",
       "    </tr>\n",
       "  </thead>\n",
       "  <tbody>\n",
       "    <tr>\n",
       "      <td>0</td>\n",
       "      <td>american vicepresident mike pence was caught o...</td>\n",
       "      <td>1</td>\n",
       "      <td>[american, vicepresident, mike, pence, was, ca...</td>\n",
       "    </tr>\n",
       "    <tr>\n",
       "      <td>1</td>\n",
       "      <td>australias covidsafe app tracks users locations</td>\n",
       "      <td>1</td>\n",
       "      <td>[australias, covidsafe, app, tracks, users, lo...</td>\n",
       "    </tr>\n",
       "    <tr>\n",
       "      <td>2</td>\n",
       "      <td>madagascar has found a coronavirus medicine th...</td>\n",
       "      <td>1</td>\n",
       "      <td>[madagascar, has, found, a, coronavirus, medic...</td>\n",
       "    </tr>\n",
       "    <tr>\n",
       "      <td>3</td>\n",
       "      <td>a video shows a maasai tribe member in kenya w...</td>\n",
       "      <td>1</td>\n",
       "      <td>[a, video, shows, a, maasai, tribe, member, in...</td>\n",
       "    </tr>\n",
       "    <tr>\n",
       "      <td>4</td>\n",
       "      <td>a widelycirculated image claims to reveal the ...</td>\n",
       "      <td>1</td>\n",
       "      <td>[a, widelycirculated, image, claims, to, revea...</td>\n",
       "    </tr>\n",
       "  </tbody>\n",
       "</table>\n",
       "</div>"
      ],
      "text/plain": [
       "                                                         Text  Label  \\\n",
       "Unnamed: 0                                                             \n",
       "0           american vicepresident mike pence was caught o...      1   \n",
       "1             australias covidsafe app tracks users locations      1   \n",
       "2           madagascar has found a coronavirus medicine th...      1   \n",
       "3           a video shows a maasai tribe member in kenya w...      1   \n",
       "4           a widelycirculated image claims to reveal the ...      1   \n",
       "\n",
       "                                                 Text_as_list  \n",
       "Unnamed: 0                                                     \n",
       "0           [american, vicepresident, mike, pence, was, ca...  \n",
       "1           [australias, covidsafe, app, tracks, users, lo...  \n",
       "2           [madagascar, has, found, a, coronavirus, medic...  \n",
       "3           [a, video, shows, a, maasai, tribe, member, in...  \n",
       "4           [a, widelycirculated, image, claims, to, revea...  "
      ]
     },
     "execution_count": 3,
     "metadata": {},
     "output_type": "execute_result"
    }
   ],
   "source": [
    "#Let's read in our data \n",
    "df = pd.read_csv('/Users/danielleo/Documents/GitHub/covid_19_classifier/covid-19_fake_news_classifier/data/df.csv')\n",
    "#Reset the index\n",
    "df = df.set_index(\"Unnamed: 0\")\n",
    "#And create a binary target \n",
    "df['Label'] = df['Label'].map({'Real':0, 'Fake':1,})\n",
    "#Now let's remove all punctuation from our text data\n",
    "df[\"Text\"] = df['Text'].str.replace('[^\\w\\s]','')\n",
    "#Now let's make sure all the words are lowercase.\n",
    "df[\"Text\"] = df[\"Text\"].str.lower()\n",
    "#Now let's create our text column into one where it is just a list of words\n",
    "df[\"Text_as_list\"] = df[\"Text\"].str.split()\n",
    "#Now Let's Take a Look-See\n",
    "df.head()"
   ]
  },
  {
   "cell_type": "code",
   "execution_count": 4,
   "metadata": {},
   "outputs": [
    {
     "data": {
      "text/plain": [
       "0    1000\n",
       "1     984\n",
       "Name: Label, dtype: int64"
      ]
     },
     "execution_count": 4,
     "metadata": {},
     "output_type": "execute_result"
    }
   ],
   "source": [
    "#Let's take a look at our Label values \n",
    "df.Label.value_counts()\n",
    "#Almost 50/50\n",
    "#Remember 0 is a Real News Story 1 is a Fake News Story"
   ]
  },
  {
   "cell_type": "markdown",
   "metadata": {},
   "source": [
    "# WordCloud"
   ]
  },
  {
   "cell_type": "code",
   "execution_count": 5,
   "metadata": {},
   "outputs": [],
   "source": [
    "all_headlines = ''.join(df['Text'])\n",
    "stopwords = STOPWORDS\n",
    "stopwords.add('will')\n",
    "wordcloud = WordCloud(stopwords=STOPWORDS, background_color=\"black\", max_words=1000).generate(all_headlines)"
   ]
  },
  {
   "cell_type": "code",
   "execution_count": 6,
   "metadata": {},
   "outputs": [
    {
     "data": {
      "image/png": "[encoded data removed]",
      "text/plain": [
       "<Figure size 1440x2160 with 1 Axes>"
      ]
     },
     "metadata": {
      "needs_background": "light"
     },
     "output_type": "display_data"
    }
   ],
   "source": [
    "rcParams['figure.figsize'] = 20, 30\n",
    "plt.imshow(wordcloud)\n",
    "plt.axis(\"off\")\n",
    "plt.show()"
   ]
  },
  {
   "cell_type": "markdown",
   "metadata": {},
   "source": [
    "# Pre-Processing Continued - Stemming and Lemming"
   ]
  },
  {
   "cell_type": "code",
   "execution_count": 7,
   "metadata": {},
   "outputs": [],
   "source": [
    "stemmer = PorterStemmer()\n",
    "lemmer = WordNetLemmatizer()"
   ]
  },
  {
   "cell_type": "code",
   "execution_count": 8,
   "metadata": {},
   "outputs": [
    {
     "data": {
      "text/html": [
       "<div>\n",
       "<style scoped>\n",
       "    .dataframe tbody tr th:only-of-type {\n",
       "        vertical-align: middle;\n",
       "    }\n",
       "\n",
       "    .dataframe tbody tr th {\n",
       "        vertical-align: top;\n",
       "    }\n",
       "\n",
       "    .dataframe thead th {\n",
       "        text-align: right;\n",
       "    }\n",
       "</style>\n",
       "<table border=\"1\" class=\"dataframe\">\n",
       "  <thead>\n",
       "    <tr style=\"text-align: right;\">\n",
       "      <th></th>\n",
       "      <th>Text</th>\n",
       "      <th>Label</th>\n",
       "      <th>Text_as_list</th>\n",
       "      <th>stemmed_text</th>\n",
       "      <th>lemmed_text</th>\n",
       "    </tr>\n",
       "    <tr>\n",
       "      <th>Unnamed: 0</th>\n",
       "      <th></th>\n",
       "      <th></th>\n",
       "      <th></th>\n",
       "      <th></th>\n",
       "      <th></th>\n",
       "    </tr>\n",
       "  </thead>\n",
       "  <tbody>\n",
       "    <tr>\n",
       "      <td>0</td>\n",
       "      <td>american vicepresident mike pence was caught o...</td>\n",
       "      <td>1</td>\n",
       "      <td>[american, vicepresident, mike, pence, was, ca...</td>\n",
       "      <td>[american, vicepresid, mike, penc, wa, caught,...</td>\n",
       "      <td>[american, vicepresident, mike, penny, wa, cau...</td>\n",
       "    </tr>\n",
       "    <tr>\n",
       "      <td>1</td>\n",
       "      <td>australias covidsafe app tracks users locations</td>\n",
       "      <td>1</td>\n",
       "      <td>[australias, covidsafe, app, tracks, users, lo...</td>\n",
       "      <td>[australia, covidsaf, app, track, user, locat]</td>\n",
       "      <td>[australia, covidsafe, app, track, user, locat...</td>\n",
       "    </tr>\n",
       "    <tr>\n",
       "      <td>2</td>\n",
       "      <td>madagascar has found a coronavirus medicine th...</td>\n",
       "      <td>1</td>\n",
       "      <td>[madagascar, has, found, a, coronavirus, medic...</td>\n",
       "      <td>[madagascar, ha, found, a, coronaviru, medicin...</td>\n",
       "      <td>[madagascar, ha, found, a, coronavirus, medici...</td>\n",
       "    </tr>\n",
       "    <tr>\n",
       "      <td>3</td>\n",
       "      <td>a video shows a maasai tribe member in kenya w...</td>\n",
       "      <td>1</td>\n",
       "      <td>[a, video, shows, a, maasai, tribe, member, in...</td>\n",
       "      <td>[a, video, show, a, maasai, tribe, member, in,...</td>\n",
       "      <td>[a, video, show, a, maasai, tribe, member, in,...</td>\n",
       "    </tr>\n",
       "    <tr>\n",
       "      <td>4</td>\n",
       "      <td>a widelycirculated image claims to reveal the ...</td>\n",
       "      <td>1</td>\n",
       "      <td>[a, widelycirculated, image, claims, to, revea...</td>\n",
       "      <td>[a, widelycircul, imag, claim, to, reveal, the...</td>\n",
       "      <td>[a, widelycirculated, image, claim, to, reveal...</td>\n",
       "    </tr>\n",
       "  </tbody>\n",
       "</table>\n",
       "</div>"
      ],
      "text/plain": [
       "                                                         Text  Label  \\\n",
       "Unnamed: 0                                                             \n",
       "0           american vicepresident mike pence was caught o...      1   \n",
       "1             australias covidsafe app tracks users locations      1   \n",
       "2           madagascar has found a coronavirus medicine th...      1   \n",
       "3           a video shows a maasai tribe member in kenya w...      1   \n",
       "4           a widelycirculated image claims to reveal the ...      1   \n",
       "\n",
       "                                                 Text_as_list  \\\n",
       "Unnamed: 0                                                      \n",
       "0           [american, vicepresident, mike, pence, was, ca...   \n",
       "1           [australias, covidsafe, app, tracks, users, lo...   \n",
       "2           [madagascar, has, found, a, coronavirus, medic...   \n",
       "3           [a, video, shows, a, maasai, tribe, member, in...   \n",
       "4           [a, widelycirculated, image, claims, to, revea...   \n",
       "\n",
       "                                                 stemmed_text  \\\n",
       "Unnamed: 0                                                      \n",
       "0           [american, vicepresid, mike, penc, wa, caught,...   \n",
       "1              [australia, covidsaf, app, track, user, locat]   \n",
       "2           [madagascar, ha, found, a, coronaviru, medicin...   \n",
       "3           [a, video, show, a, maasai, tribe, member, in,...   \n",
       "4           [a, widelycircul, imag, claim, to, reveal, the...   \n",
       "\n",
       "                                                  lemmed_text  \n",
       "Unnamed: 0                                                     \n",
       "0           [american, vicepresident, mike, penny, wa, cau...  \n",
       "1           [australia, covidsafe, app, track, user, locat...  \n",
       "2           [madagascar, ha, found, a, coronavirus, medici...  \n",
       "3           [a, video, show, a, maasai, tribe, member, in,...  \n",
       "4           [a, widelycirculated, image, claim, to, reveal...  "
      ]
     },
     "execution_count": 8,
     "metadata": {},
     "output_type": "execute_result"
    }
   ],
   "source": [
    "df['stemmed_text'] = df['Text_as_list'].apply(lambda x: [stemmer.stem(y) for y in x])\n",
    "df['lemmed_text'] = df[\"Text_as_list\"].apply(lambda x: [lemmer.lemmatize(y) for y in x])\n",
    "df.head()"
   ]
  },
  {
   "cell_type": "markdown",
   "metadata": {},
   "source": [
    "# Logistic Regression"
   ]
  },
  {
   "cell_type": "code",
   "execution_count": 9,
   "metadata": {},
   "outputs": [],
   "source": [
    "#Pipeline for Cvec and logistic regresion\n",
    "pipe_c_lr = Pipeline([('cvec', CountVectorizer()),\n",
    "                  ('lr', LogisticRegression(solver = 'liblinear'))\n",
    "                  ])\n",
    "\n",
    "pipe_para_cvec = {\n",
    "    'cvec__max_features': [100, 500, 1000],\n",
    "    'cvec__ngram_range': [(1,2), (1,3), (1,4)],\n",
    "    'cvec__stop_words' : ['english', None],\n",
    "    'cvec__min_df': [2, 5, 10],\n",
    "    'cvec__max_df': [.75, .80, .85, .95]\n",
    "    }"
   ]
  },
  {
   "cell_type": "code",
   "execution_count": 10,
   "metadata": {},
   "outputs": [],
   "source": [
    "#Pipeline for Tfidf and logistic regression\n",
    "pipe_t_lr = Pipeline([('tvec', TfidfVectorizer()),\n",
    "                  ('lr', LogisticRegression(solver = 'liblinear'))\n",
    "                  ])\n",
    "\n",
    "pipe_para_tfidf = {\n",
    "        'tvec__max_features': [100, 500, 1000],\n",
    "        'tvec__ngram_range': [(1,2), (1,3), (1,4)],\n",
    "        'tvec__stop_words': ['english', None],\n",
    "        'tvec__min_df'    : [2, 5, 10],\n",
    "        'tvec__max_df'    : [.75, .80, .85, .96]\n",
    "        \n",
    "}"
   ]
  },
  {
   "cell_type": "code",
   "execution_count": 11,
   "metadata": {},
   "outputs": [
    {
     "name": "stdout",
     "output_type": "stream",
     "text": [
      "Model:Countvectorizer\n",
      "Best Train Score = 0.962822936357908\n",
      "Best Test Score = 0.8992443324937027\n",
      "Best Overall Score = 0.8802772526780088\n",
      "Best Parameters = {'cvec__max_df': 0.75, 'cvec__max_features': 1000, 'cvec__min_df': 2, 'cvec__ngram_range': (1, 4), 'cvec__stop_words': None}\n",
      "Model:TfidfVectorizer\n",
      "Best Train Score = 0.9344675488342785\n",
      "Best Test Score = 0.8564231738035264\n",
      "Best Overall Score = 0.8683049779458097\n",
      "Best Parameters = {'tvec__max_df': 0.75, 'tvec__max_features': 1000, 'tvec__min_df': 2, 'tvec__ngram_range': (1, 3), 'tvec__stop_words': None}\n"
     ]
    }
   ],
   "source": [
    "pipes = [pipe_c_lr, pipe_t_lr]\n",
    "pipe_param = [pipe_para_cvec, pipe_para_tfidf]\n",
    "pipe_names = ['Countvectorizer', 'TfidfVectorizer']\n",
    "\n",
    "#Let's set up our data for modeling. \n",
    "X = df['Text']\n",
    "y = df['Label']\n",
    "\n",
    "# Now let's make our training and test set \n",
    "X_train, X_test, y_train, y_test = train_test_split(X, \n",
    "                                                    y, \n",
    "                                                    test_size=0.20, \n",
    "                                                    stratify=y,\n",
    "                                                    random_state=42)\n",
    "\n",
    "for i in range(0, len(pipe_names)):  \n",
    "\n",
    "    gs = GridSearchCV(pipes[i],\n",
    "                  param_grid=pipe_param[i], \n",
    "                  cv=3)\n",
    "                \n",
    "    gs.fit(X_train, y_train)\n",
    "    gs_estimator = gs.best_estimator_\n",
    "              \n",
    "    print(f\"Model:{pipe_names[i]}\")\n",
    "    print(f\"Best Train Score = {gs_estimator.score(X_train, y_train)}\")\n",
    "    print(f\"Best Test Score = {gs_estimator.score(X_test, y_test)}\")\n",
    "    print(f\"Best Overall Score = {gs.best_score_}\")\n",
    "    print(f\"Best Parameters = {gs.best_params_}\")"
   ]
  },
  {
   "cell_type": "code",
   "execution_count": 12,
   "metadata": {},
   "outputs": [
    {
     "name": "stdout",
     "output_type": "stream",
     "text": [
      "Pipeline(memory=None,\n",
      "         steps=[('tvec',\n",
      "                 TfidfVectorizer(analyzer='word', binary=False,\n",
      "                                 decode_error='strict',\n",
      "                                 dtype=<class 'numpy.float64'>,\n",
      "                                 encoding='utf-8', input='content',\n",
      "                                 lowercase=True, max_df=0.75, max_features=1000,\n",
      "                                 min_df=2, ngram_range=(1, 3), norm='l2',\n",
      "                                 preprocessor=None, smooth_idf=True,\n",
      "                                 stop_words=None, strip_accents=None,\n",
      "                                 sublinear_tf=False,\n",
      "                                 token_pattern='(?u)\\\\b\\\\w\\\\w+\\\\b',\n",
      "                                 tokenizer=None, use_idf=True,\n",
      "                                 vocabulary=None)),\n",
      "                ('lr',\n",
      "                 LogisticRegression(C=1.0, class_weight=None, dual=False,\n",
      "                                    fit_intercept=True, intercept_scaling=1,\n",
      "                                    l1_ratio=None, max_iter=100,\n",
      "                                    multi_class='warn', n_jobs=None,\n",
      "                                    penalty='l2', random_state=None,\n",
      "                                    solver='liblinear', tol=0.0001, verbose=0,\n",
      "                                    warm_start=False))],\n",
      "         verbose=False)\n"
     ]
    }
   ],
   "source": [
    "#Let's take a look at our best estimator\n",
    "print(gs_estimator)"
   ]
  },
  {
   "cell_type": "code",
   "execution_count": 13,
   "metadata": {},
   "outputs": [
    {
     "data": {
      "text/html": [
       "<div>\n",
       "<style scoped>\n",
       "    .dataframe tbody tr th:only-of-type {\n",
       "        vertical-align: middle;\n",
       "    }\n",
       "\n",
       "    .dataframe tbody tr th {\n",
       "        vertical-align: top;\n",
       "    }\n",
       "\n",
       "    .dataframe thead th {\n",
       "        text-align: right;\n",
       "    }\n",
       "</style>\n",
       "<table border=\"1\" class=\"dataframe\">\n",
       "  <thead>\n",
       "    <tr style=\"text-align: right;\">\n",
       "      <th></th>\n",
       "      <th>Predicted Real</th>\n",
       "      <th>Predicted Fake</th>\n",
       "    </tr>\n",
       "  </thead>\n",
       "  <tbody>\n",
       "    <tr>\n",
       "      <td>Actually Real</td>\n",
       "      <td>167</td>\n",
       "      <td>33</td>\n",
       "    </tr>\n",
       "    <tr>\n",
       "      <td>Actually Fake</td>\n",
       "      <td>24</td>\n",
       "      <td>173</td>\n",
       "    </tr>\n",
       "  </tbody>\n",
       "</table>\n",
       "</div>"
      ],
      "text/plain": [
       "               Predicted Real  Predicted Fake\n",
       "Actually Real             167              33\n",
       "Actually Fake              24             173"
      ]
     },
     "execution_count": 13,
     "metadata": {},
     "output_type": "execute_result"
    }
   ],
   "source": [
    "#Let's generate our best Logistic Regression Predictions\n",
    "lr_best_preds = gs_estimator.predict(X_test)\n",
    "\n",
    "#Now let's generate our confusion matrix\n",
    "lr_cm = confusion_matrix(y_test, lr_best_preds)\n",
    "lr_cm_df = pd.DataFrame(lr_cm, columns=[\"Predicted Real\", \"Predicted Fake\"], \n",
    "                             index=['Actually Real', 'Actually Fake'])\n",
    "lr_cm_df"
   ]
  },
  {
   "cell_type": "code",
   "execution_count": 36,
   "metadata": {},
   "outputs": [
    {
     "name": "stdout",
     "output_type": "stream",
     "text": [
      "Specificity: 0.835\n",
      "Sensitivty: 0.8782\n",
      "AUC: 0.857\n",
      "The True Negatives are: 167\n",
      "The True Positives are: 173\n",
      "The False Negatives are: 24\n",
      "The False Positives are: 33\n",
      "Accuracy Score: 0.8564\n",
      "Precision Score: 0.8398\n"
     ]
    }
   ],
   "source": [
    "# Now let's get our confusion matrix metrics \n",
    "tn_lr, fp_lr, fn_lr, tp_lr = confusion_matrix(y_test, lr_best_preds).ravel()\n",
    "\n",
    "# What is the specificity of our test set?\n",
    "spec_lr = tn_lr / (tn_lr + fp_lr)\n",
    "print(f'Specificity: {round(spec_lr,4)}')\n",
    "\n",
    "# What is the sensitivity of our test set?\n",
    "sens_lr = tp_lr / (tp_lr + fn_lr)\n",
    "print(f'Sensitivty: {round(sens_lr,4)}')\n",
    "\n",
    "#Now let's calculate our score \n",
    "lr_auc = roc_auc_score(y_test, lr_best_preds)\n",
    "print('AUC: %.3f' % lr_auc)\n",
    "\n",
    "#And let's just look at all of our metrics\n",
    "print(f'The True Negatives are: {tn_lr}')\n",
    "print(f'The True Positives are: {tp_lr}')\n",
    "print(f'The False Negatives are: {fn_lr}')\n",
    "print(f'The False Positives are: {fp_lr}')\n",
    "\n",
    "#And let's take a look at accuracy\n",
    "accuracy_lr = (tp_lr + tn_lr) / (tp_lr+tn_lr+fn_lr+fp_lr)\n",
    "print(f'Accuracy Score: {round(accuracy_lr,4)}')\n",
    "\n",
    "#And let's take a look at precision \n",
    "precision_lr = (tp_lr) / (tp_lr+fp_lr)\n",
    "print(f'Precision Score: {round(precision_lr,4)}')"
   ]
  },
  {
   "cell_type": "markdown",
   "metadata": {},
   "source": [
    "# Decision Tree"
   ]
  },
  {
   "cell_type": "code",
   "execution_count": 17,
   "metadata": {},
   "outputs": [],
   "source": [
    "#We could create one big pipeline specifying all of the different models we will create. \n",
    "#However I think it is best to look at the different methods and break them down along SHAP values to see if \n",
    "#There are any insights to take in\n",
    "pipe_c_dt = Pipeline([('cvec', CountVectorizer()),\n",
    "                  ('dt', DecisionTreeClassifier())\n",
    "                  ])\n",
    "\n",
    "pipe_t_dt = Pipeline([('tvec', TfidfVectorizer()),\n",
    "                  ('dt', DecisionTreeClassifier())\n",
    "                  ])"
   ]
  },
  {
   "cell_type": "code",
   "execution_count": 18,
   "metadata": {},
   "outputs": [
    {
     "name": "stdout",
     "output_type": "stream",
     "text": [
      "Model:Countvectorizer\n",
      "Best Train Score = 0.9993698802772527\n",
      "Best Test Score = 0.8463476070528967\n",
      "Best Overall Score = 0.794580970384373\n",
      "Best Parameters = {'cvec__max_df': 0.8, 'cvec__max_features': 1000, 'cvec__min_df': 2, 'cvec__ngram_range': (1, 3), 'cvec__stop_words': None}\n",
      "Model:TfidfVectorizer\n",
      "Best Train Score = 0.9993698802772527\n",
      "Best Test Score = 0.8136020151133502\n",
      "Best Overall Score = 0.7908002520478891\n",
      "Best Parameters = {'tvec__max_df': 0.8, 'tvec__max_features': 1000, 'tvec__min_df': 2, 'tvec__ngram_range': (1, 3), 'tvec__stop_words': None}\n"
     ]
    }
   ],
   "source": [
    "pipes = [pipe_c_dt, pipe_t_dt]\n",
    "pipe_param = [pipe_para_cvec, pipe_para_tfidf]\n",
    "pipe_names = ['Countvectorizer', 'TfidfVectorizer']\n",
    "\n",
    "for i in range(0, len(pipe_names)):  \n",
    "\n",
    "    gs_dt = GridSearchCV(pipes[i],\n",
    "                  param_grid=pipe_param[i], \n",
    "                  cv=3)\n",
    "                \n",
    "    gs_dt.fit(X_train, y_train)\n",
    "    gs_estimator_dt = gs_dt.best_estimator_\n",
    "              \n",
    "    print(f\"Model:{pipe_names[i]}\")\n",
    "    print(f\"Best Train Score = {gs_estimator_dt.score(X_train, y_train)}\")\n",
    "    print(f\"Best Test Score = {gs_estimator_dt.score(X_test, y_test)}\")\n",
    "    print(f\"Best Overall Score = {gs_dt.best_score_}\")\n",
    "    print(f\"Best Parameters = {gs_dt.best_params_}\")"
   ]
  },
  {
   "cell_type": "code",
   "execution_count": 19,
   "metadata": {},
   "outputs": [
    {
     "name": "stdout",
     "output_type": "stream",
     "text": [
      "Pipeline(memory=None,\n",
      "         steps=[('tvec',\n",
      "                 TfidfVectorizer(analyzer='word', binary=False,\n",
      "                                 decode_error='strict',\n",
      "                                 dtype=<class 'numpy.float64'>,\n",
      "                                 encoding='utf-8', input='content',\n",
      "                                 lowercase=True, max_df=0.8, max_features=1000,\n",
      "                                 min_df=2, ngram_range=(1, 3), norm='l2',\n",
      "                                 preprocessor=None, smooth_idf=True,\n",
      "                                 stop_words=None, strip_accents=None,\n",
      "                                 sublinear_tf=False,\n",
      "                                 token_pattern='(...\\b',\n",
      "                                 tokenizer=None, use_idf=True,\n",
      "                                 vocabulary=None)),\n",
      "                ('dt',\n",
      "                 DecisionTreeClassifier(class_weight=None, criterion='gini',\n",
      "                                        max_depth=None, max_features=None,\n",
      "                                        max_leaf_nodes=None,\n",
      "                                        min_impurity_decrease=0.0,\n",
      "                                        min_impurity_split=None,\n",
      "                                        min_samples_leaf=1, min_samples_split=2,\n",
      "                                        min_weight_fraction_leaf=0.0,\n",
      "                                        presort=False, random_state=None,\n",
      "                                        splitter='best'))],\n",
      "         verbose=False)\n"
     ]
    }
   ],
   "source": [
    "#Let's take a look at our best estimator from our Decision Tree Models\n",
    "print(gs_estimator_dt)"
   ]
  },
  {
   "cell_type": "code",
   "execution_count": 20,
   "metadata": {},
   "outputs": [
    {
     "data": {
      "text/html": [
       "<div>\n",
       "<style scoped>\n",
       "    .dataframe tbody tr th:only-of-type {\n",
       "        vertical-align: middle;\n",
       "    }\n",
       "\n",
       "    .dataframe tbody tr th {\n",
       "        vertical-align: top;\n",
       "    }\n",
       "\n",
       "    .dataframe thead th {\n",
       "        text-align: right;\n",
       "    }\n",
       "</style>\n",
       "<table border=\"1\" class=\"dataframe\">\n",
       "  <thead>\n",
       "    <tr style=\"text-align: right;\">\n",
       "      <th></th>\n",
       "      <th>Predicted Real</th>\n",
       "      <th>Predicted Fake</th>\n",
       "    </tr>\n",
       "  </thead>\n",
       "  <tbody>\n",
       "    <tr>\n",
       "      <td>Actually Real</td>\n",
       "      <td>164</td>\n",
       "      <td>36</td>\n",
       "    </tr>\n",
       "    <tr>\n",
       "      <td>Actually Fake</td>\n",
       "      <td>38</td>\n",
       "      <td>159</td>\n",
       "    </tr>\n",
       "  </tbody>\n",
       "</table>\n",
       "</div>"
      ],
      "text/plain": [
       "               Predicted Real  Predicted Fake\n",
       "Actually Real             164              36\n",
       "Actually Fake              38             159"
      ]
     },
     "execution_count": 20,
     "metadata": {},
     "output_type": "execute_result"
    }
   ],
   "source": [
    "#Let's look at predictions from our best decision tree classifier\n",
    "dt_best_preds = gs_estimator_dt.predict(X_test)\n",
    "\n",
    "#Now let's generate our confusion matrix\n",
    "dt_cm = confusion_matrix(y_test, dt_best_preds)\n",
    "dt_cm_df = pd.DataFrame(dt_cm, columns=[\"Predicted Real\", \"Predicted Fake\"], \n",
    "                             index=['Actually Real', 'Actually Fake'])\n",
    "dt_cm_df"
   ]
  },
  {
   "cell_type": "code",
   "execution_count": 38,
   "metadata": {},
   "outputs": [
    {
     "name": "stdout",
     "output_type": "stream",
     "text": [
      "Specificity: 0.82\n",
      "Sensitivty: 0.8071\n",
      "AUC: 0.814\n",
      "The True Negatives are: 164\n",
      "The True Positives are: 159\n",
      "The False Negatives are: 38\n",
      "The False Positives are: 36\n",
      "Accuracy Score: 0.8136\n",
      "Precision Score: 0.8154\n"
     ]
    }
   ],
   "source": [
    "# Now let's get our confusion matrix metrics \n",
    "tn_dt, fp_dt, fn_dt, tp_dt = confusion_matrix(y_test, dt_best_preds).ravel()\n",
    "\n",
    "# What is the specificity of our test set?\n",
    "spec_dt = tn_dt / (tn_dt + fp_dt)\n",
    "print(f'Specificity: {round(spec_dt,4)}')\n",
    "\n",
    "# What is the sensitivity of our test set?\n",
    "sens_dt = tp_dt / (tp_dt + fn_dt)\n",
    "print(f'Sensitivty: {round(sens_dt,4)}')\n",
    "\n",
    "#Now let's calculate our score \n",
    "dt_auc = roc_auc_score(y_test, dt_best_preds)\n",
    "print('AUC: %.3f' % dt_auc)\n",
    "\n",
    "#And let's just look at all of our metrics\n",
    "print(f'The True Negatives are: {tn_dt}')\n",
    "print(f'The True Positives are: {tp_dt}')\n",
    "print(f'The False Negatives are: {fn_dt}')\n",
    "print(f'The False Positives are: {fp_dt}')\n",
    "\n",
    "#And Lastly let's take a look at accuracy\n",
    "accuracy_dt = (tp_dt + tn_dt) / (tp_dt+tn_dt+fn_dt+fp_dt)\n",
    "print(f'Accuracy Score: {round(accuracy_dt,4)}')\n",
    "\n",
    "#And let's take a look at precision \n",
    "precision_dt = (tp_dt) / (tp_dt+fp_dt)\n",
    "print(f'Precision Score: {round(precision_dt,4)}')"
   ]
  },
  {
   "cell_type": "markdown",
   "metadata": {},
   "source": [
    "# Random Forrest"
   ]
  },
  {
   "cell_type": "code",
   "execution_count": 22,
   "metadata": {},
   "outputs": [],
   "source": [
    "pipe_c_rf = Pipeline([('cvec', CountVectorizer()),\n",
    "                  ('rf', RandomForestClassifier())\n",
    "                  ])\n",
    "\n",
    "pipe_t_rf = Pipeline([('tvec', TfidfVectorizer()),\n",
    "                  ('rf', RandomForestClassifier())\n",
    "                  ])"
   ]
  },
  {
   "cell_type": "code",
   "execution_count": 23,
   "metadata": {},
   "outputs": [
    {
     "name": "stdout",
     "output_type": "stream",
     "text": [
      "Model:Countvectorizer\n",
      "Best Train Score = 0.9911783238815375\n",
      "Best Test Score = 0.8488664987405542\n",
      "Best Overall Score = 0.8349086326402017\n",
      "Best Parameters = {'cvec__max_df': 0.8, 'cvec__max_features': 1000, 'cvec__min_df': 2, 'cvec__ngram_range': (1, 4), 'cvec__stop_words': None}\n",
      "Model:TfidfVectorizer\n",
      "Best Train Score = 0.9880277252678009\n",
      "Best Test Score = 0.8614609571788413\n",
      "Best Overall Score = 0.8380592312539382\n",
      "Best Parameters = {'tvec__max_df': 0.96, 'tvec__max_features': 1000, 'tvec__min_df': 2, 'tvec__ngram_range': (1, 3), 'tvec__stop_words': None}\n"
     ]
    }
   ],
   "source": [
    "pipes = [pipe_c_rf, pipe_t_rf]\n",
    "pipe_param = [pipe_para_cvec, pipe_para_tfidf]\n",
    "pipe_names = ['Countvectorizer', 'TfidfVectorizer']\n",
    "\n",
    "for i in range(0, len(pipe_names)):  \n",
    "\n",
    "    gs_rf = GridSearchCV(pipes[i],\n",
    "                  param_grid=pipe_param[i], \n",
    "                  cv=3)\n",
    "                \n",
    "    gs_rf.fit(X_train, y_train)\n",
    "    gs_estimator_rf = gs_rf.best_estimator_\n",
    "              \n",
    "    print(f\"Model:{pipe_names[i]}\")\n",
    "    print(f\"Best Train Score = {gs_estimator_rf.score(X_train, y_train)}\")\n",
    "    print(f\"Best Test Score = {gs_estimator_rf.score(X_test, y_test)}\")\n",
    "    print(f\"Best Overall Score = {gs_rf.best_score_}\")\n",
    "    print(f\"Best Parameters = {gs_rf.best_params_}\")"
   ]
  },
  {
   "cell_type": "code",
   "execution_count": 24,
   "metadata": {},
   "outputs": [
    {
     "name": "stdout",
     "output_type": "stream",
     "text": [
      "Pipeline(memory=None,\n",
      "         steps=[('tvec',\n",
      "                 TfidfVectorizer(analyzer='word', binary=False,\n",
      "                                 decode_error='strict',\n",
      "                                 dtype=<class 'numpy.float64'>,\n",
      "                                 encoding='utf-8', input='content',\n",
      "                                 lowercase=True, max_df=0.96, max_features=1000,\n",
      "                                 min_df=2, ngram_range=(1, 3), norm='l2',\n",
      "                                 preprocessor=None, smooth_idf=True,\n",
      "                                 stop_words=None, strip_accents=None,\n",
      "                                 sublinear_tf=False,\n",
      "                                 token_pattern='...\n",
      "                 RandomForestClassifier(bootstrap=True, class_weight=None,\n",
      "                                        criterion='gini', max_depth=None,\n",
      "                                        max_features='auto',\n",
      "                                        max_leaf_nodes=None,\n",
      "                                        min_impurity_decrease=0.0,\n",
      "                                        min_impurity_split=None,\n",
      "                                        min_samples_leaf=1, min_samples_split=2,\n",
      "                                        min_weight_fraction_leaf=0.0,\n",
      "                                        n_estimators=10, n_jobs=None,\n",
      "                                        oob_score=False, random_state=None,\n",
      "                                        verbose=0, warm_start=False))],\n",
      "         verbose=False)\n"
     ]
    }
   ],
   "source": [
    "print(gs_estimator_rf)"
   ]
  },
  {
   "cell_type": "code",
   "execution_count": 25,
   "metadata": {},
   "outputs": [
    {
     "data": {
      "text/html": [
       "<div>\n",
       "<style scoped>\n",
       "    .dataframe tbody tr th:only-of-type {\n",
       "        vertical-align: middle;\n",
       "    }\n",
       "\n",
       "    .dataframe tbody tr th {\n",
       "        vertical-align: top;\n",
       "    }\n",
       "\n",
       "    .dataframe thead th {\n",
       "        text-align: right;\n",
       "    }\n",
       "</style>\n",
       "<table border=\"1\" class=\"dataframe\">\n",
       "  <thead>\n",
       "    <tr style=\"text-align: right;\">\n",
       "      <th></th>\n",
       "      <th>Predicted Real</th>\n",
       "      <th>Predicted Fake</th>\n",
       "    </tr>\n",
       "  </thead>\n",
       "  <tbody>\n",
       "    <tr>\n",
       "      <td>Actually Real</td>\n",
       "      <td>184</td>\n",
       "      <td>16</td>\n",
       "    </tr>\n",
       "    <tr>\n",
       "      <td>Actually Fake</td>\n",
       "      <td>39</td>\n",
       "      <td>158</td>\n",
       "    </tr>\n",
       "  </tbody>\n",
       "</table>\n",
       "</div>"
      ],
      "text/plain": [
       "               Predicted Real  Predicted Fake\n",
       "Actually Real             184              16\n",
       "Actually Fake              39             158"
      ]
     },
     "execution_count": 25,
     "metadata": {},
     "output_type": "execute_result"
    }
   ],
   "source": [
    "#Let's generate predictions\n",
    "cvec_preds_rf = gs_estimator_rf.predict(X_test)\n",
    "\n",
    "#And make our confusion matrix\n",
    "cvec_cm_rf = confusion_matrix(y_test, cvec_preds_rf)\n",
    "cvec_cm_rf_df = pd.DataFrame(cvec_cm_rf, columns=[\"Predicted Real\", \"Predicted Fake\"], \n",
    "                             index=['Actually Real', 'Actually Fake'])\n",
    "\n",
    "cvec_cm_rf_df"
   ]
  },
  {
   "cell_type": "code",
   "execution_count": 39,
   "metadata": {},
   "outputs": [
    {
     "name": "stdout",
     "output_type": "stream",
     "text": [
      "Specificity: 0.92\n",
      "Sensitivty: 0.802\n",
      "AUC: 0.861\n",
      "The True Negatives are: 184\n",
      "The True Positives are: 158\n",
      "The False Negatives are: 39\n",
      "The False Positives are: 16\n",
      "Accuracy Score: 0.8615\n",
      "Precision Score: 0.908\n"
     ]
    }
   ],
   "source": [
    "#Now let's get our metrics \n",
    "tn_rf, fp_rf, fn_rf, tp_rf = confusion_matrix(y_test, cvec_preds_rf).ravel()\n",
    "\n",
    "# What is the specificity of our test set?\n",
    "spec_rf = tn_rf / (tn_rf + fp_rf)\n",
    "print(f'Specificity: {round(spec_rf,4)}')\n",
    "\n",
    "# What is the sensitivity of our test set?\n",
    "sens_rf = tp_rf / (tp_rf + fn_rf)\n",
    "print(f'Sensitivty: {round(sens_rf,4)}')\n",
    "\n",
    "rf_auc = roc_auc_score(y_test, cvec_preds_rf)\n",
    "print('AUC: %.3f' % rf_auc)\n",
    "\n",
    "#And let's just look at all of our metrics\n",
    "print(f'The True Negatives are: {tn_rf}')\n",
    "print(f'The True Positives are: {tp_rf}')\n",
    "print(f'The False Negatives are: {fn_rf}')\n",
    "print(f'The False Positives are: {fp_rf}')\n",
    "\n",
    "#And Lastly let's take a look at accuracy\n",
    "accuracy_rf = (tp_rf + tn_rf) / (tp_rf+tn_rf+fn_rf+fp_rf)\n",
    "print(f'Accuracy Score: {round(accuracy_rf,4)}')\n",
    "\n",
    "#And let's take a look at precision \n",
    "precision_rf = (tp_rf) / (tp_rf+fp_rf)\n",
    "print(f'Precision Score: {round(precision_rf,4)}')"
   ]
  },
  {
   "cell_type": "markdown",
   "metadata": {},
   "source": [
    "# XGBOOST"
   ]
  },
  {
   "cell_type": "code",
   "execution_count": 27,
   "metadata": {},
   "outputs": [],
   "source": [
    "pipe_c_xgb = Pipeline([('cvec', CountVectorizer()),\n",
    "                  ('xgb', XGBClassifier())\n",
    "                  ])\n",
    "\n",
    "pipe_t_xgb = Pipeline([('tvec', TfidfVectorizer()),\n",
    "                  ('xgb', XGBClassifier())\n",
    "                  ])"
   ]
  },
  {
   "cell_type": "code",
   "execution_count": 28,
   "metadata": {},
   "outputs": [
    {
     "name": "stdout",
     "output_type": "stream",
     "text": [
      "Model:Countvectorizer\n",
      "Best Train Score = 0.8664146187775678\n",
      "Best Test Score = 0.8639798488664987\n",
      "Best Overall Score = 0.8292375551354757\n",
      "Best Parameters = {'cvec__max_df': 0.75, 'cvec__max_features': 1000, 'cvec__min_df': 5, 'cvec__ngram_range': (1, 2), 'cvec__stop_words': None}\n",
      "Model:TfidfVectorizer\n",
      "Best Train Score = 0.8720856962822936\n",
      "Best Test Score = 0.8513853904282116\n",
      "Best Overall Score = 0.8197857592942659\n",
      "Best Parameters = {'tvec__max_df': 0.75, 'tvec__max_features': 500, 'tvec__min_df': 2, 'tvec__ngram_range': (1, 2), 'tvec__stop_words': None}\n"
     ]
    }
   ],
   "source": [
    "pipes = [pipe_c_xgb, pipe_t_xgb]\n",
    "pipe_param = [pipe_para_cvec, pipe_para_tfidf]\n",
    "pipe_names = ['Countvectorizer', 'TfidfVectorizer']\n",
    "\n",
    "for i in range(0, len(pipe_names)):  \n",
    "\n",
    "    gs_xgb = GridSearchCV(pipes[i],\n",
    "                  param_grid=pipe_param[i], \n",
    "                  cv=3)\n",
    "                \n",
    "    gs_xgb.fit(X_train, y_train)\n",
    "    gs_estimator_xgb = gs_xgb.best_estimator_\n",
    "              \n",
    "    print(f\"Model:{pipe_names[i]}\")\n",
    "    print(f\"Best Train Score = {gs_estimator_xgb.score(X_train, y_train)}\")\n",
    "    print(f\"Best Test Score = {gs_estimator_xgb.score(X_test, y_test)}\")\n",
    "    print(f\"Best Overall Score = {gs_xgb.best_score_}\")\n",
    "    print(f\"Best Parameters = {gs_xgb.best_params_}\")"
   ]
  },
  {
   "cell_type": "code",
   "execution_count": 29,
   "metadata": {},
   "outputs": [
    {
     "name": "stdout",
     "output_type": "stream",
     "text": [
      "Pipeline(memory=None,\n",
      "         steps=[('tvec',\n",
      "                 TfidfVectorizer(analyzer='word', binary=False,\n",
      "                                 decode_error='strict',\n",
      "                                 dtype=<class 'numpy.float64'>,\n",
      "                                 encoding='utf-8', input='content',\n",
      "                                 lowercase=True, max_df=0.75, max_features=500,\n",
      "                                 min_df=2, ngram_range=(1, 2), norm='l2',\n",
      "                                 preprocessor=None, smooth_idf=True,\n",
      "                                 stop_words=None, strip_accents=None,\n",
      "                                 sublinear_tf=False,\n",
      "                                 token_pattern='(...\n",
      "                 XGBClassifier(base_score=0.5, booster='gbtree',\n",
      "                               colsample_bylevel=1, colsample_bynode=1,\n",
      "                               colsample_bytree=1, gamma=0, learning_rate=0.1,\n",
      "                               max_delta_step=0, max_depth=3,\n",
      "                               min_child_weight=1, missing=None,\n",
      "                               n_estimators=100, n_jobs=1, nthread=None,\n",
      "                               objective='binary:logistic', random_state=0,\n",
      "                               reg_alpha=0, reg_lambda=1, scale_pos_weight=1,\n",
      "                               seed=None, silent=None, subsample=1,\n",
      "                               verbosity=1))],\n",
      "         verbose=False)\n"
     ]
    }
   ],
   "source": [
    "print(gs_estimator_xgb)"
   ]
  },
  {
   "cell_type": "code",
   "execution_count": 30,
   "metadata": {},
   "outputs": [
    {
     "data": {
      "text/html": [
       "<div>\n",
       "<style scoped>\n",
       "    .dataframe tbody tr th:only-of-type {\n",
       "        vertical-align: middle;\n",
       "    }\n",
       "\n",
       "    .dataframe tbody tr th {\n",
       "        vertical-align: top;\n",
       "    }\n",
       "\n",
       "    .dataframe thead th {\n",
       "        text-align: right;\n",
       "    }\n",
       "</style>\n",
       "<table border=\"1\" class=\"dataframe\">\n",
       "  <thead>\n",
       "    <tr style=\"text-align: right;\">\n",
       "      <th></th>\n",
       "      <th>Predicted Real</th>\n",
       "      <th>Predicted Fake</th>\n",
       "    </tr>\n",
       "  </thead>\n",
       "  <tbody>\n",
       "    <tr>\n",
       "      <td>Actually Real</td>\n",
       "      <td>185</td>\n",
       "      <td>15</td>\n",
       "    </tr>\n",
       "    <tr>\n",
       "      <td>Actually Fake</td>\n",
       "      <td>44</td>\n",
       "      <td>153</td>\n",
       "    </tr>\n",
       "  </tbody>\n",
       "</table>\n",
       "</div>"
      ],
      "text/plain": [
       "               Predicted Real  Predicted Fake\n",
       "Actually Real             185              15\n",
       "Actually Fake              44             153"
      ]
     },
     "execution_count": 30,
     "metadata": {},
     "output_type": "execute_result"
    }
   ],
   "source": [
    "#Let's generate predictions\n",
    "cvec_preds_xgb = gs_estimator_xgb.predict(X_test)\n",
    "\n",
    "#And make our confusion matrix\n",
    "cvec_cm_xgb = confusion_matrix(y_test, cvec_preds_xgb)\n",
    "cvec_cm_xgb_df = pd.DataFrame(cvec_cm_xgb, columns=[\"Predicted Real\", \"Predicted Fake\"], \n",
    "                             index=['Actually Real', 'Actually Fake'])\n",
    "\n",
    "cvec_cm_xgb_df"
   ]
  },
  {
   "cell_type": "code",
   "execution_count": 40,
   "metadata": {},
   "outputs": [
    {
     "name": "stdout",
     "output_type": "stream",
     "text": [
      "Specificity: 0.925\n",
      "Sensitivty: 0.7766\n",
      "AUC: 0.851\n",
      "The True Negatives are: 185\n",
      "The True Positives are: 153\n",
      "The False Negatives are: 44\n",
      "The False Positives are: 15\n",
      "Accuracy Score: 0.8514\n",
      "Precision Score: 0.9107\n"
     ]
    }
   ],
   "source": [
    "#Now let's get our metrics \n",
    "tn_xgb, fp_xgb, fn_xgb, tp_xgb = confusion_matrix(y_test, cvec_preds_xgb).ravel()\n",
    "\n",
    "# What is the specificity of our test set?\n",
    "spec_xgb = tn_xgb / (tn_xgb + fp_xgb)\n",
    "print(f'Specificity: {round(spec_xgb,4)}')\n",
    "\n",
    "# What is the sensitivity of our test set?\n",
    "sens_xgb = tp_xgb / (tp_xgb + fn_xgb)\n",
    "print(f'Sensitivty: {round(sens_xgb,4)}')\n",
    "\n",
    "xgb_auc = roc_auc_score(y_test, cvec_preds_xgb)\n",
    "print('AUC: %.3f' % xgb_auc)\n",
    "\n",
    "#And let's just look at all of our metrics\n",
    "print(f'The True Negatives are: {tn_xgb}')\n",
    "print(f'The True Positives are: {tp_xgb}')\n",
    "print(f'The False Negatives are: {fn_xgb}')\n",
    "print(f'The False Positives are: {fp_xgb}')\n",
    "\n",
    "#And Lastly let's take a look at accuracy\n",
    "accuracy_xgb = (tp_xgb + tn_xgb) / (tp_xgb+tn_xgb+fn_xgb+fp_xgb)\n",
    "print(f'Accuracy Score: {round(accuracy_xgb,4)}')\n",
    "\n",
    "#And let's take a look at precision \n",
    "precision_xgb = (tp_xgb) / (tp_xgb+fp_xgb)\n",
    "print(f'Precision Score: {round(precision_xgb,4)}')"
   ]
  },
  {
   "cell_type": "markdown",
   "metadata": {},
   "source": [
    "# SHAP Values"
   ]
  },
  {
   "cell_type": "code",
   "execution_count": 32,
   "metadata": {},
   "outputs": [],
   "source": [
    "xgb_pipe = Pipeline([('tvec', TfidfVectorizer(max_df=.75, max_features=500, min_df=2, ngram_range=(1,2), stop_words=None)),\n",
    "                  ('xgb', XGBClassifier())\n",
    "                  ])\n",
    "\n",
    "#For now you can (as you mentioned) just use the class_names=model.classes_ option of the summary plot."
   ]
  },
  {
   "cell_type": "code",
   "execution_count": 33,
   "metadata": {},
   "outputs": [
    {
     "data": {
      "text/plain": [
       "Pipeline(memory=None,\n",
       "         steps=[('tvec',\n",
       "                 TfidfVectorizer(analyzer='word', binary=False,\n",
       "                                 decode_error='strict',\n",
       "                                 dtype=<class 'numpy.float64'>,\n",
       "                                 encoding='utf-8', input='content',\n",
       "                                 lowercase=True, max_df=0.75, max_features=500,\n",
       "                                 min_df=2, ngram_range=(1, 2), norm='l2',\n",
       "                                 preprocessor=None, smooth_idf=True,\n",
       "                                 stop_words=None, strip_accents=None,\n",
       "                                 sublinear_tf=False,\n",
       "                                 token_pattern='(...\n",
       "                 XGBClassifier(base_score=0.5, booster='gbtree',\n",
       "                               colsample_bylevel=1, colsample_bynode=1,\n",
       "                               colsample_bytree=1, gamma=0, learning_rate=0.1,\n",
       "                               max_delta_step=0, max_depth=3,\n",
       "                               min_child_weight=1, missing=None,\n",
       "                               n_estimators=100, n_jobs=1, nthread=None,\n",
       "                               objective='binary:logistic', random_state=0,\n",
       "                               reg_alpha=0, reg_lambda=1, scale_pos_weight=1,\n",
       "                               seed=None, silent=None, subsample=1,\n",
       "                               verbosity=1))],\n",
       "         verbose=False)"
      ]
     },
     "execution_count": 33,
     "metadata": {},
     "output_type": "execute_result"
    }
   ],
   "source": [
    "xgb_pipe.fit(X_train, y_train)"
   ]
  },
  {
   "cell_type": "code",
   "execution_count": 35,
   "metadata": {},
   "outputs": [
    {
     "data": {
      "image/png": "[encoded data removed]",
      "text/plain": [
       "<Figure size 576x626.4 with 1 Axes>"
      ]
     },
     "metadata": {
      "needs_background": "light"
     },
     "output_type": "display_data"
    }
   ],
   "source": [
    "X_test_tfidf = pd.DataFrame(xgb_pipe['tvec'].transform(X_test).toarray(), \n",
    "                            columns=xgb_pipe['tvec'].get_feature_names())\n",
    "\n",
    "explainer = shap.TreeExplainer(xgb_pipe['xgb'])\n",
    "\n",
    "shap_values = explainer.shap_values(X_test_tfidf)\n",
    "\n",
    "shap.summary_plot(shap_values, X_test_tfidf, plot_type='bar', max_display=18, class_names=xgb_pipe.classes_)"
   ]
  }
 ],
 "metadata": {
  "kernelspec": {
   "display_name": "Python 3",
   "language": "python",
   "name": "python3"
  },
  "language_info": {
   "codemirror_mode": {
    "name": "ipython",
    "version": 3
   },
   "file_extension": ".py",
   "mimetype": "text/x-python",
   "name": "python",
   "nbconvert_exporter": "python",
   "pygments_lexer": "ipython3",
   "version": "3.7.4"
  }
 },
 "nbformat": 4,
 "nbformat_minor": 2
}
