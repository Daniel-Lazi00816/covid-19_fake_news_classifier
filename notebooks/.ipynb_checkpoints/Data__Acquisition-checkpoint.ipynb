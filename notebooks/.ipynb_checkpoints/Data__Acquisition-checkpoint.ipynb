{
 "cells": [
  {
   "cell_type": "code",
   "execution_count": 1,
   "metadata": {},
   "outputs": [],
   "source": [
    "#Packages Needed to Acquire and Clean Data\n",
    "from newsapi import NewsApiClient\n",
    "import requests\n",
    "import datetime as dt \n",
    "import pandas as pd"
   ]
  },
  {
   "cell_type": "code",
   "execution_count": 2,
   "metadata": {},
   "outputs": [],
   "source": [
    "newsapi = NewsApiClient(api_key='6635d9701181427ba6a4ccd661fdc191')\n",
    "\n",
    "data_bbc = newsapi.get_everything(q='COVID-19',sources='bbc-news',language='en',page_size=100)\n",
    "data_abc = newsapi.get_everything(q='Coronavirus',sources='abc-news',language='en',page_size=100)\n",
    "data_ap = newsapi.get_everything(q='COVID-19',sources='associated-press',language='en',page_size=100)\n",
    "data_rel = newsapi.get_everything(q='Coronavirus',language='en',sort_by='relevancy',page_size=100)\n",
    "data_pop = newsapi.get_everything(q='COVID-19',language='en',sort_by='popularity',page_size=100)\n",
    "data_bloomberg = newsapi.get_everything(q='COVID-19',sources='bloomberg',language='en',page_size=100)\n",
    "data_cnn = newsapi.get_everything(q='Coronavirus',sources='cnn',language='en',page_size=100)\n",
    "data_financial_post = newsapi.get_everything(q='COVID-19',sources='financial-post',language='en',page_size=100)\n",
    "data_cbs_news = newsapi.get_everything(q='COVID-19',sources='cbs-news',language='en',page_size=100)\n",
    "data_abc_au = newsapi.get_everything(q='COVID-19',sources='abc-news-au',language='en',page_size=100)\n",
    "\n",
    "bbc_articles = data_bbc['articles']\n",
    "abc_articles = data_abc['articles']\n",
    "ap_articles = data_ap['articles']\n",
    "rel_articles = data_rel['articles']\n",
    "pop_articles = data_pop['articles']\n",
    "bloomberg_articles = data_bloomberg['articles']\n",
    "cnn_articles = data_cnn['articles']\n",
    "fin_post_articles = data_financial_post['articles']\n",
    "cbs_articles = data_cbs_news['articles']\n",
    "abc_au_articles = data_abc_au['articles']"
   ]
  },
  {
   "cell_type": "code",
   "execution_count": 3,
   "metadata": {
    "scrolled": true
   },
   "outputs": [
    {
     "data": {
      "text/html": [
       "<div>\n",
       "<style scoped>\n",
       "    .dataframe tbody tr th:only-of-type {\n",
       "        vertical-align: middle;\n",
       "    }\n",
       "\n",
       "    .dataframe tbody tr th {\n",
       "        vertical-align: top;\n",
       "    }\n",
       "\n",
       "    .dataframe thead th {\n",
       "        text-align: right;\n",
       "    }\n",
       "</style>\n",
       "<table border=\"1\" class=\"dataframe\">\n",
       "  <thead>\n",
       "    <tr style=\"text-align: right;\">\n",
       "      <th></th>\n",
       "      <th>Text</th>\n",
       "      <th>Label</th>\n",
       "    </tr>\n",
       "  </thead>\n",
       "  <tbody>\n",
       "    <tr>\n",
       "      <td>0</td>\n",
       "      <td>LGBT: Covid-19 forced me back home where I'm '...</td>\n",
       "      <td>Real</td>\n",
       "    </tr>\n",
       "    <tr>\n",
       "      <td>1</td>\n",
       "      <td>Coronavirus: Brazil now fourth-highest nation ...</td>\n",
       "      <td>Real</td>\n",
       "    </tr>\n",
       "    <tr>\n",
       "      <td>2</td>\n",
       "      <td>Coronavirus: The misinformation circulating in...</td>\n",
       "      <td>Real</td>\n",
       "    </tr>\n",
       "    <tr>\n",
       "      <td>3</td>\n",
       "      <td>Coronavirus: How Turkey took control of Covid-...</td>\n",
       "      <td>Real</td>\n",
       "    </tr>\n",
       "    <tr>\n",
       "      <td>4</td>\n",
       "      <td>Friday's gossip: Werner's Chelsea move delayed...</td>\n",
       "      <td>Real</td>\n",
       "    </tr>\n",
       "  </tbody>\n",
       "</table>\n",
       "</div>"
      ],
      "text/plain": [
       "                                                Text Label\n",
       "0  LGBT: Covid-19 forced me back home where I'm '...  Real\n",
       "1  Coronavirus: Brazil now fourth-highest nation ...  Real\n",
       "2  Coronavirus: The misinformation circulating in...  Real\n",
       "3  Coronavirus: How Turkey took control of Covid-...  Real\n",
       "4  Friday's gossip: Werner's Chelsea move delayed...  Real"
      ]
     },
     "execution_count": 3,
     "metadata": {},
     "output_type": "execute_result"
    }
   ],
   "source": [
    "df = pd.DataFrame(bbc_articles)\n",
    "df_2 = pd.DataFrame(abc_articles)\n",
    "df_3 = pd.DataFrame(ap_articles)\n",
    "df_4 = pd.DataFrame(rel_articles)\n",
    "df_5 = pd.DataFrame(pop_articles)\n",
    "\n",
    "a = pd.DataFrame(bloomberg_articles)\n",
    "b = pd.DataFrame(cnn_articles)\n",
    "c = pd.DataFrame(fin_post_articles)\n",
    "d = pd.DataFrame(cbs_articles)\n",
    "e = pd.DataFrame(abc_au_articles)\n",
    "\n",
    "dfs = [df, df_2, df_3, df_4, df_5, a, b, c, d, e]\n",
    "dataframe_1 = pd.concat(dfs)\n",
    "\n",
    "dataframe_1.drop(['source','author','url','urlToImage','publishedAt','urlToImage', 'description', 'content'], \n",
    "               axis=1, inplace=True)\n",
    "\n",
    "dataframe_1['Label'] = 'Real'\n",
    "dataframe_1.columns = ['Text', 'Label']\n",
    "\n",
    "dataframe_1.head()"
   ]
  },
  {
   "cell_type": "code",
   "execution_count": 4,
   "metadata": {},
   "outputs": [],
   "source": [
    "dataframe_1.to_csv('/Users/danielleo/Documents/GitHub/covid_19_classifier/data/dataframe.csv')"
   ]
  },
  {
   "cell_type": "code",
   "execution_count": 5,
   "metadata": {},
   "outputs": [
    {
     "data": {
      "text/html": [
       "<div>\n",
       "<style scoped>\n",
       "    .dataframe tbody tr th:only-of-type {\n",
       "        vertical-align: middle;\n",
       "    }\n",
       "\n",
       "    .dataframe tbody tr th {\n",
       "        vertical-align: top;\n",
       "    }\n",
       "\n",
       "    .dataframe thead th {\n",
       "        text-align: right;\n",
       "    }\n",
       "</style>\n",
       "<table border=\"1\" class=\"dataframe\">\n",
       "  <thead>\n",
       "    <tr style=\"text-align: right;\">\n",
       "      <th></th>\n",
       "      <th>Text</th>\n",
       "      <th>Label</th>\n",
       "    </tr>\n",
       "  </thead>\n",
       "  <tbody>\n",
       "    <tr>\n",
       "      <td>0</td>\n",
       "      <td>American Vice-President Mike Pence was caught ...</td>\n",
       "      <td>Fake</td>\n",
       "    </tr>\n",
       "    <tr>\n",
       "      <td>1</td>\n",
       "      <td>Australia’s COVIDSafe app tracks users’ locati...</td>\n",
       "      <td>Fake</td>\n",
       "    </tr>\n",
       "    <tr>\n",
       "      <td>2</td>\n",
       "      <td>Madagascar has found a “coronavirus medicine” ...</td>\n",
       "      <td>Fake</td>\n",
       "    </tr>\n",
       "    <tr>\n",
       "      <td>3</td>\n",
       "      <td>A video shows a Maasai tribe member in Kenya w...</td>\n",
       "      <td>Fake</td>\n",
       "    </tr>\n",
       "    <tr>\n",
       "      <td>4</td>\n",
       "      <td>A widely-circulated image claims to reveal the...</td>\n",
       "      <td>Fake</td>\n",
       "    </tr>\n",
       "  </tbody>\n",
       "</table>\n",
       "</div>"
      ],
      "text/plain": [
       "                                                Text Label\n",
       "0  American Vice-President Mike Pence was caught ...  Fake\n",
       "1  Australia’s COVIDSafe app tracks users’ locati...  Fake\n",
       "2  Madagascar has found a “coronavirus medicine” ...  Fake\n",
       "3  A video shows a Maasai tribe member in Kenya w...  Fake\n",
       "4  A widely-circulated image claims to reveal the...  Fake"
      ]
     },
     "execution_count": 5,
     "metadata": {},
     "output_type": "execute_result"
    }
   ],
   "source": [
    "fake_news = pd.read_csv('/Users/danielleo/Documents/GitHub/covid_19_classifier/data/fake_news.csv')\n",
    "fake_news['Label'] = 'Fake'\n",
    "fake_news.columns = ['Text', 'Label']\n",
    "fake_news.head()"
   ]
  },
  {
   "cell_type": "code",
   "execution_count": 6,
   "metadata": {},
   "outputs": [
    {
     "data": {
      "text/html": [
       "<div>\n",
       "<style scoped>\n",
       "    .dataframe tbody tr th:only-of-type {\n",
       "        vertical-align: middle;\n",
       "    }\n",
       "\n",
       "    .dataframe tbody tr th {\n",
       "        vertical-align: top;\n",
       "    }\n",
       "\n",
       "    .dataframe thead th {\n",
       "        text-align: right;\n",
       "    }\n",
       "</style>\n",
       "<table border=\"1\" class=\"dataframe\">\n",
       "  <thead>\n",
       "    <tr style=\"text-align: right;\">\n",
       "      <th></th>\n",
       "      <th>Text</th>\n",
       "      <th>Label</th>\n",
       "    </tr>\n",
       "  </thead>\n",
       "  <tbody>\n",
       "    <tr>\n",
       "      <td>0</td>\n",
       "      <td>American Vice-President Mike Pence was caught ...</td>\n",
       "      <td>Fake</td>\n",
       "    </tr>\n",
       "    <tr>\n",
       "      <td>1</td>\n",
       "      <td>Australia’s COVIDSafe app tracks users’ locati...</td>\n",
       "      <td>Fake</td>\n",
       "    </tr>\n",
       "    <tr>\n",
       "      <td>2</td>\n",
       "      <td>Madagascar has found a “coronavirus medicine” ...</td>\n",
       "      <td>Fake</td>\n",
       "    </tr>\n",
       "    <tr>\n",
       "      <td>3</td>\n",
       "      <td>A video shows a Maasai tribe member in Kenya w...</td>\n",
       "      <td>Fake</td>\n",
       "    </tr>\n",
       "    <tr>\n",
       "      <td>4</td>\n",
       "      <td>A widely-circulated image claims to reveal the...</td>\n",
       "      <td>Fake</td>\n",
       "    </tr>\n",
       "  </tbody>\n",
       "</table>\n",
       "</div>"
      ],
      "text/plain": [
       "                                                Text Label\n",
       "0  American Vice-President Mike Pence was caught ...  Fake\n",
       "1  Australia’s COVIDSafe app tracks users’ locati...  Fake\n",
       "2  Madagascar has found a “coronavirus medicine” ...  Fake\n",
       "3  A video shows a Maasai tribe member in Kenya w...  Fake\n",
       "4  A widely-circulated image claims to reveal the...  Fake"
      ]
     },
     "execution_count": 6,
     "metadata": {},
     "output_type": "execute_result"
    }
   ],
   "source": [
    "dfs_2 = [fake_news, dataframe_1]\n",
    "df = pd.concat(dfs_2)\n",
    "df.head()"
   ]
  },
  {
   "cell_type": "code",
   "execution_count": 7,
   "metadata": {},
   "outputs": [],
   "source": [
    "df.to_csv('/Users/danielleo/Documents/GitHub/covid_19_classifier/data/df.csv')"
   ]
  },
  {
   "cell_type": "code",
   "execution_count": null,
   "metadata": {},
   "outputs": [],
   "source": []
  }
 ],
 "metadata": {
  "kernelspec": {
   "display_name": "Python 3",
   "language": "python",
   "name": "python3"
  },
  "language_info": {
   "codemirror_mode": {
    "name": "ipython",
    "version": 3
   },
   "file_extension": ".py",
   "mimetype": "text/x-python",
   "name": "python",
   "nbconvert_exporter": "python",
   "pygments_lexer": "ipython3",
   "version": "3.7.4"
  }
 },
 "nbformat": 4,
 "nbformat_minor": 2
}
