{
 "cells": [
  {
   "cell_type": "code",
   "execution_count": 1,
   "metadata": {},
   "outputs": [],
   "source": [
    "#Basic Imports \n",
    "import pandas as pd\n",
    "import numpy as np\n",
    "import seaborn as sns \n",
    "import matplotlib.pyplot as plt\n",
    "from matplotlib import rcParams\n",
    "\n",
    "#Natural Language Processing \n",
    "import nltk\n",
    "import re \n",
    "from wordcloud import WordCloud, STOPWORDS\n",
    "from nltk.stem import WordNetLemmatizer\n",
    "from nltk.stem.porter import PorterStemmer\n",
    "from nltk.tokenize import RegexpTokenizer\n",
    "\n",
    "#Sklearn\n",
    "from nltk.corpus import stopwords\n",
    "from sklearn.pipeline import Pipeline\n",
    "from sklearn.feature_extraction.text import CountVectorizer, TfidfVectorizer\n",
    "from sklearn.naive_bayes import GaussianNB\n",
    "from sklearn.linear_model import LogisticRegression\n",
    "from sklearn.model_selection import train_test_split, GridSearchCV\n",
    "\n",
    "#Classifiers and Models\n",
    "from sklearn.metrics import confusion_matrix\n",
    "from sklearn.tree import DecisionTreeClassifier\n",
    "from sklearn.ensemble import RandomForestClassifier\n",
    "from xgboost import XGBClassifier\n",
    "from sklearn.naive_bayes import GaussianNB\n",
    "from sklearn.linear_model import LogisticRegression\n",
    "\n",
    "#Model Evaluation and Interpretation\n",
    "import shap\n",
    "from sklearn.metrics import confusion_matrix, classification_report, precision_score, accuracy_score, recall_score, f1_score, precision_recall_curve, roc_curve, roc_auc_score\n",
    "\n",
    "#Ignore Any Warnings\n",
    "import warnings\n",
    "warnings.filterwarnings(\"ignore\")\n"
   ]
  },
  {
   "cell_type": "code",
   "execution_count": 2,
   "metadata": {},
   "outputs": [
    {
     "data": {
      "text/html": [
       "<div>\n",
       "<style scoped>\n",
       "    .dataframe tbody tr th:only-of-type {\n",
       "        vertical-align: middle;\n",
       "    }\n",
       "\n",
       "    .dataframe tbody tr th {\n",
       "        vertical-align: top;\n",
       "    }\n",
       "\n",
       "    .dataframe thead th {\n",
       "        text-align: right;\n",
       "    }\n",
       "</style>\n",
       "<table border=\"1\" class=\"dataframe\">\n",
       "  <thead>\n",
       "    <tr style=\"text-align: right;\">\n",
       "      <th></th>\n",
       "      <th>Text</th>\n",
       "      <th>Label</th>\n",
       "    </tr>\n",
       "    <tr>\n",
       "      <th>Unnamed: 0</th>\n",
       "      <th></th>\n",
       "      <th></th>\n",
       "    </tr>\n",
       "  </thead>\n",
       "  <tbody>\n",
       "    <tr>\n",
       "      <td>0</td>\n",
       "      <td>musk foils tesla claim its handled covid19 lik...</td>\n",
       "      <td>0</td>\n",
       "    </tr>\n",
       "    <tr>\n",
       "      <td>1</td>\n",
       "      <td>why new york suffered when other cities were s...</td>\n",
       "      <td>0</td>\n",
       "    </tr>\n",
       "    <tr>\n",
       "      <td>2</td>\n",
       "      <td>scientists question study linking malaria drug...</td>\n",
       "      <td>0</td>\n",
       "    </tr>\n",
       "    <tr>\n",
       "      <td>3</td>\n",
       "      <td>counting covid19 deaths</td>\n",
       "      <td>0</td>\n",
       "    </tr>\n",
       "    <tr>\n",
       "      <td>4</td>\n",
       "      <td>instacart shoppers during covid19</td>\n",
       "      <td>0</td>\n",
       "    </tr>\n",
       "  </tbody>\n",
       "</table>\n",
       "</div>"
      ],
      "text/plain": [
       "                                                         Text  Label\n",
       "Unnamed: 0                                                          \n",
       "0           musk foils tesla claim its handled covid19 lik...      0\n",
       "1           why new york suffered when other cities were s...      0\n",
       "2           scientists question study linking malaria drug...      0\n",
       "3                                     counting covid19 deaths      0\n",
       "4                           instacart shoppers during covid19      0"
      ]
     },
     "execution_count": 2,
     "metadata": {},
     "output_type": "execute_result"
    }
   ],
   "source": [
    "#Let's read in our data \n",
    "df = pd.read_csv('dataframe.csv')\n",
    "#Reset the index\n",
    "df = df.set_index(\"Unnamed: 0\")\n",
    "#And create a binary target \n",
    "df['Label'] = df['Label'].map({'Real':0, 'Fake':1,})\n",
    "#Now let's remove all punctuation from our text data\n",
    "df[\"Text\"] = df['Text'].str.replace('[^\\w\\s]','')\n",
    "#Now let's make sure all the words are lowercase.\n",
    "df[\"Text\"] = df[\"Text\"].str.lower()\n",
    "#Now Let's Take a Look-See\n",
    "df.head()"
   ]
  },
  {
   "cell_type": "code",
   "execution_count": 3,
   "metadata": {},
   "outputs": [
    {
     "data": {
      "text/plain": [
       "0    1000\n",
       "1     983\n",
       "Name: Label, dtype: int64"
      ]
     },
     "execution_count": 3,
     "metadata": {},
     "output_type": "execute_result"
    }
   ],
   "source": [
    "#Let's take a look at our Label values \n",
    "df.Label.value_counts()\n",
    "#Almost 50/50\n",
    "#Remember 0 is a Real News Story 1 is a Fake News Story"
   ]
  },
  {
   "cell_type": "markdown",
   "metadata": {},
   "source": [
    "# WordCloud"
   ]
  },
  {
   "cell_type": "code",
   "execution_count": 4,
   "metadata": {
    "scrolled": true
   },
   "outputs": [],
   "source": [
    "all_headlines = ''.join(df['Text'])\n",
    "stopwords = STOPWORDS\n",
    "stopwords.add('will')\n",
    "wordcloud = WordCloud(stopwords=STOPWORDS, background_color=\"black\", max_words=1000).generate(all_headlines)"
   ]
  },
  {
   "cell_type": "code",
   "execution_count": 5,
   "metadata": {},
   "outputs": [
    {
     "data": {
      "image/png": "[encoded data removed]",
      "text/plain": [
       "<Figure size 1440x2160 with 1 Axes>"
      ]
     },
     "metadata": {
      "needs_background": "light"
     },
     "output_type": "display_data"
    }
   ],
   "source": [
    "rcParams['figure.figsize'] = 20, 30\n",
    "plt.imshow(wordcloud)\n",
    "plt.axis(\"off\")\n",
    "plt.show()"
   ]
  },
  {
   "cell_type": "markdown",
   "metadata": {},
   "source": [
    "# Logistic Regression"
   ]
  },
  {
   "cell_type": "code",
   "execution_count": 6,
   "metadata": {},
   "outputs": [],
   "source": [
    "#Pipeline for Cvec and logistic regresion\n",
    "pipe_c_lr = Pipeline([('cvec', CountVectorizer()),\n",
    "                  ('lr', LogisticRegression(solver = 'liblinear'))\n",
    "                  ])\n",
    "\n",
    "pipe_para_cvec = {\n",
    "    'cvec__max_features': [100, 500, 1000],\n",
    "    'cvec__ngram_range': [(1,2), (1,3), (1,4)],\n",
    "    'cvec__stop_words' : ['english', None],\n",
    "    'cvec__min_df': [2, 5, 10],\n",
    "    'cvec__max_df': [.75, .80, .85, .95]\n",
    "    }"
   ]
  },
  {
   "cell_type": "code",
   "execution_count": 7,
   "metadata": {},
   "outputs": [],
   "source": [
    "#Pipeline for Tfidf and logistic regression\n",
    "pipe_t_lr = Pipeline([('tvec', TfidfVectorizer()),\n",
    "                  ('lr', LogisticRegression(solver = 'liblinear'))\n",
    "                  ])\n",
    "\n",
    "pipe_para_tfidf = {\n",
    "        'tvec__max_features': [100, 500, 1000],\n",
    "        'tvec__ngram_range': [(1,2), (1,3), (1,4)],\n",
    "        'tvec__stop_words': ['english', None],\n",
    "        'tvec__min_df'    : [2, 5, 10],\n",
    "        'tvec__max_df'    : [.75, .80, .85, .96]\n",
    "        \n",
    "}"
   ]
  },
  {
   "cell_type": "code",
   "execution_count": 8,
   "metadata": {},
   "outputs": [
    {
     "name": "stdout",
     "output_type": "stream",
     "text": [
      "Model:Countvectorizer\n",
      "Best Train Score = 0.9508196721311475\n",
      "Best Test Score = 0.8513853904282116\n",
      "Best Overall Score = 0.8316519546027743\n",
      "Best Parameters = {'cvec__max_df': 0.75, 'cvec__max_features': 1000, 'cvec__min_df': 2, 'cvec__ngram_range': (1, 3), 'cvec__stop_words': None}\n",
      "Model:TfidfVectorizer\n",
      "Best Train Score = 0.9230769230769231\n",
      "Best Test Score = 0.8564231738035264\n",
      "Best Overall Score = 0.8366960907944514\n",
      "Best Parameters = {'tvec__max_df': 0.75, 'tvec__max_features': 1000, 'tvec__min_df': 2, 'tvec__ngram_range': (1, 3), 'tvec__stop_words': None}\n"
     ]
    }
   ],
   "source": [
    "pipes = [pipe_c_lr, pipe_t_lr]\n",
    "pipe_param = [pipe_para_cvec, pipe_para_tfidf]\n",
    "pipe_names = ['Countvectorizer', 'TfidfVectorizer']\n",
    "\n",
    "#Let's set up our data for modeling. \n",
    "X = df['Text']\n",
    "y = df['Label']\n",
    "\n",
    "# Now let's make our training and test set \n",
    "X_train, X_test, y_train, y_test = train_test_split(X, \n",
    "                                                    y, \n",
    "                                                    test_size=0.20, \n",
    "                                                    stratify=y,\n",
    "                                                    random_state=42)\n",
    "\n",
    "for i in range(0, len(pipe_names)):  \n",
    "\n",
    "    gs = GridSearchCV(pipes[i],\n",
    "                  param_grid=pipe_param[i], \n",
    "                  cv=3)\n",
    "                \n",
    "    gs.fit(X_train, y_train)\n",
    "    gs_estimator = gs.best_estimator_\n",
    "              \n",
    "    print(f\"Model:{pipe_names[i]}\")\n",
    "    print(f\"Best Train Score = {gs_estimator.score(X_train, y_train)}\")\n",
    "    print(f\"Best Test Score = {gs_estimator.score(X_test, y_test)}\")\n",
    "    print(f\"Best Overall Score = {gs.best_score_}\")\n",
    "    print(f\"Best Parameters = {gs.best_params_}\")"
   ]
  },
  {
   "cell_type": "code",
   "execution_count": 9,
   "metadata": {},
   "outputs": [
    {
     "name": "stdout",
     "output_type": "stream",
     "text": [
      "Pipeline(memory=None,\n",
      "         steps=[('tvec',\n",
      "                 TfidfVectorizer(analyzer='word', binary=False,\n",
      "                                 decode_error='strict',\n",
      "                                 dtype=<class 'numpy.float64'>,\n",
      "                                 encoding='utf-8', input='content',\n",
      "                                 lowercase=True, max_df=0.75, max_features=1000,\n",
      "                                 min_df=2, ngram_range=(1, 3), norm='l2',\n",
      "                                 preprocessor=None, smooth_idf=True,\n",
      "                                 stop_words=None, strip_accents=None,\n",
      "                                 sublinear_tf=False,\n",
      "                                 token_pattern='(?u)\\\\b\\\\w\\\\w+\\\\b',\n",
      "                                 tokenizer=None, use_idf=True,\n",
      "                                 vocabulary=None)),\n",
      "                ('lr',\n",
      "                 LogisticRegression(C=1.0, class_weight=None, dual=False,\n",
      "                                    fit_intercept=True, intercept_scaling=1,\n",
      "                                    l1_ratio=None, max_iter=100,\n",
      "                                    multi_class='warn', n_jobs=None,\n",
      "                                    penalty='l2', random_state=None,\n",
      "                                    solver='liblinear', tol=0.0001, verbose=0,\n",
      "                                    warm_start=False))],\n",
      "         verbose=False)\n"
     ]
    }
   ],
   "source": [
    "#Let's take a look at our best estimator\n",
    "print(gs_estimator)"
   ]
  },
  {
   "cell_type": "code",
   "execution_count": 10,
   "metadata": {},
   "outputs": [
    {
     "data": {
      "text/html": [
       "<div>\n",
       "<style scoped>\n",
       "    .dataframe tbody tr th:only-of-type {\n",
       "        vertical-align: middle;\n",
       "    }\n",
       "\n",
       "    .dataframe tbody tr th {\n",
       "        vertical-align: top;\n",
       "    }\n",
       "\n",
       "    .dataframe thead th {\n",
       "        text-align: right;\n",
       "    }\n",
       "</style>\n",
       "<table border=\"1\" class=\"dataframe\">\n",
       "  <thead>\n",
       "    <tr style=\"text-align: right;\">\n",
       "      <th></th>\n",
       "      <th>Predicted Real</th>\n",
       "      <th>Predicted Fake</th>\n",
       "    </tr>\n",
       "  </thead>\n",
       "  <tbody>\n",
       "    <tr>\n",
       "      <td>Actually Real</td>\n",
       "      <td>179</td>\n",
       "      <td>21</td>\n",
       "    </tr>\n",
       "    <tr>\n",
       "      <td>Actually Fake</td>\n",
       "      <td>36</td>\n",
       "      <td>161</td>\n",
       "    </tr>\n",
       "  </tbody>\n",
       "</table>\n",
       "</div>"
      ],
      "text/plain": [
       "               Predicted Real  Predicted Fake\n",
       "Actually Real             179              21\n",
       "Actually Fake              36             161"
      ]
     },
     "execution_count": 10,
     "metadata": {},
     "output_type": "execute_result"
    }
   ],
   "source": [
    "#Let's generate our best Logistic Regression Predictions\n",
    "lr_best_preds = gs_estimator.predict(X_test)\n",
    "\n",
    "#Now let's generate our confusion matrix\n",
    "lr_cm = confusion_matrix(y_test, lr_best_preds)\n",
    "lr_cm_df = pd.DataFrame(lr_cm, columns=[\"Predicted Real\", \"Predicted Fake\"], \n",
    "                             index=['Actually Real', 'Actually Fake'])\n",
    "lr_cm_df"
   ]
  },
  {
   "cell_type": "code",
   "execution_count": 11,
   "metadata": {},
   "outputs": [
    {
     "name": "stdout",
     "output_type": "stream",
     "text": [
      "Specificity: 0.895\n",
      "Sensitivty: 0.8173\n"
     ]
    }
   ],
   "source": [
    "# Now let's get our confusion matrix metrics \n",
    "tn_lr, fp_lr, fn_lr, tp_lr = confusion_matrix(y_test, lr_best_preds).ravel()\n",
    "\n",
    "# What is the specificity of our test set?\n",
    "spec_lr = tn_lr / (tn_lr + fp_lr)\n",
    "print(f'Specificity: {round(spec_lr,4)}')\n",
    "\n",
    "# What is the sensitivity of our test set?\n",
    "sens_lr = tp_lr / (tp_lr + fn_lr)\n",
    "print(f'Sensitivty: {round(sens_lr,4)}')"
   ]
  },
  {
   "cell_type": "markdown",
   "metadata": {},
   "source": [
    "# Decision Tree"
   ]
  },
  {
   "cell_type": "code",
   "execution_count": 12,
   "metadata": {},
   "outputs": [],
   "source": [
    "#We could create one big pipeline specifying all of the different models we will create. \n",
    "#However I think it is best to look at the different methods and break them down along SHAP values to see if \n",
    "#There are any insights to take in\n",
    "pipe_c_dt = Pipeline([('cvec', CountVectorizer()),\n",
    "                  ('dt', DecisionTreeClassifier())\n",
    "                  ])\n",
    "\n",
    "pipe_t_dt = Pipeline([('tvec', TfidfVectorizer()),\n",
    "                  ('dt', DecisionTreeClassifier())\n",
    "                  ])"
   ]
  },
  {
   "cell_type": "code",
   "execution_count": 13,
   "metadata": {},
   "outputs": [
    {
     "name": "stdout",
     "output_type": "stream",
     "text": [
      "Model:Countvectorizer\n",
      "Best Train Score = 0.9955863808322825\n",
      "Best Test Score = 0.7909319899244333\n",
      "Best Overall Score = 0.7591424968474149\n",
      "Best Parameters = {'cvec__max_df': 0.95, 'cvec__max_features': 500, 'cvec__min_df': 5, 'cvec__ngram_range': (1, 2), 'cvec__stop_words': None}\n",
      "Model:TfidfVectorizer\n",
      "Best Train Score = 0.9955863808322825\n",
      "Best Test Score = 0.7934508816120907\n",
      "Best Overall Score = 0.7610340479192939\n",
      "Best Parameters = {'tvec__max_df': 0.85, 'tvec__max_features': 500, 'tvec__min_df': 5, 'tvec__ngram_range': (1, 4), 'tvec__stop_words': None}\n"
     ]
    }
   ],
   "source": [
    "pipes = [pipe_c_dt, pipe_t_dt]\n",
    "pipe_param = [pipe_para_cvec, pipe_para_tfidf]\n",
    "pipe_names = ['Countvectorizer', 'TfidfVectorizer']\n",
    "\n",
    "for i in range(0, len(pipe_names)):  \n",
    "\n",
    "    gs_dt = GridSearchCV(pipes[i],\n",
    "                  param_grid=pipe_param[i], \n",
    "                  cv=3)\n",
    "                \n",
    "    gs_dt.fit(X_train, y_train)\n",
    "    gs_estimator_dt = gs_dt.best_estimator_\n",
    "              \n",
    "    print(f\"Model:{pipe_names[i]}\")\n",
    "    print(f\"Best Train Score = {gs_estimator_dt.score(X_train, y_train)}\")\n",
    "    print(f\"Best Test Score = {gs_estimator_dt.score(X_test, y_test)}\")\n",
    "    print(f\"Best Overall Score = {gs_dt.best_score_}\")\n",
    "    print(f\"Best Parameters = {gs_dt.best_params_}\")"
   ]
  },
  {
   "cell_type": "code",
   "execution_count": 14,
   "metadata": {},
   "outputs": [
    {
     "name": "stdout",
     "output_type": "stream",
     "text": [
      "Pipeline(memory=None,\n",
      "         steps=[('tvec',\n",
      "                 TfidfVectorizer(analyzer='word', binary=False,\n",
      "                                 decode_error='strict',\n",
      "                                 dtype=<class 'numpy.float64'>,\n",
      "                                 encoding='utf-8', input='content',\n",
      "                                 lowercase=True, max_df=0.85, max_features=500,\n",
      "                                 min_df=5, ngram_range=(1, 4), norm='l2',\n",
      "                                 preprocessor=None, smooth_idf=True,\n",
      "                                 stop_words=None, strip_accents=None,\n",
      "                                 sublinear_tf=False,\n",
      "                                 token_pattern='(...\\b',\n",
      "                                 tokenizer=None, use_idf=True,\n",
      "                                 vocabulary=None)),\n",
      "                ('dt',\n",
      "                 DecisionTreeClassifier(class_weight=None, criterion='gini',\n",
      "                                        max_depth=None, max_features=None,\n",
      "                                        max_leaf_nodes=None,\n",
      "                                        min_impurity_decrease=0.0,\n",
      "                                        min_impurity_split=None,\n",
      "                                        min_samples_leaf=1, min_samples_split=2,\n",
      "                                        min_weight_fraction_leaf=0.0,\n",
      "                                        presort=False, random_state=None,\n",
      "                                        splitter='best'))],\n",
      "         verbose=False)\n"
     ]
    }
   ],
   "source": [
    "#Let's take a look at our best estimator from our Decision Tree Models\n",
    "print(gs_estimator_dt)"
   ]
  },
  {
   "cell_type": "code",
   "execution_count": 15,
   "metadata": {},
   "outputs": [
    {
     "data": {
      "text/html": [
       "<div>\n",
       "<style scoped>\n",
       "    .dataframe tbody tr th:only-of-type {\n",
       "        vertical-align: middle;\n",
       "    }\n",
       "\n",
       "    .dataframe tbody tr th {\n",
       "        vertical-align: top;\n",
       "    }\n",
       "\n",
       "    .dataframe thead th {\n",
       "        text-align: right;\n",
       "    }\n",
       "</style>\n",
       "<table border=\"1\" class=\"dataframe\">\n",
       "  <thead>\n",
       "    <tr style=\"text-align: right;\">\n",
       "      <th></th>\n",
       "      <th>Predicted Real</th>\n",
       "      <th>Predicted Fake</th>\n",
       "    </tr>\n",
       "  </thead>\n",
       "  <tbody>\n",
       "    <tr>\n",
       "      <td>Actually Real</td>\n",
       "      <td>163</td>\n",
       "      <td>37</td>\n",
       "    </tr>\n",
       "    <tr>\n",
       "      <td>Actually Fake</td>\n",
       "      <td>45</td>\n",
       "      <td>152</td>\n",
       "    </tr>\n",
       "  </tbody>\n",
       "</table>\n",
       "</div>"
      ],
      "text/plain": [
       "               Predicted Real  Predicted Fake\n",
       "Actually Real             163              37\n",
       "Actually Fake              45             152"
      ]
     },
     "execution_count": 15,
     "metadata": {},
     "output_type": "execute_result"
    }
   ],
   "source": [
    "#Let's look at predictions from our best decision tree classifier\n",
    "dt_best_preds = gs_estimator_dt.predict(X_test)\n",
    "\n",
    "#Now let's generate our confusion matrix\n",
    "dt_cm = confusion_matrix(y_test, dt_best_preds)\n",
    "dt_cm_df = pd.DataFrame(dt_cm, columns=[\"Predicted Real\", \"Predicted Fake\"], \n",
    "                             index=['Actually Real', 'Actually Fake'])\n",
    "dt_cm_df"
   ]
  },
  {
   "cell_type": "code",
   "execution_count": 16,
   "metadata": {},
   "outputs": [
    {
     "name": "stdout",
     "output_type": "stream",
     "text": [
      "Specificity: 0.815\n",
      "Sensitivty: 0.7716\n"
     ]
    }
   ],
   "source": [
    "# Now let's get our confusion matrix metrics \n",
    "tn_dt, fp_dt, fn_dt, tp_dt = confusion_matrix(y_test, dt_best_preds).ravel()\n",
    "\n",
    "# What is the specificity of our test set?\n",
    "spec_dt = tn_dt / (tn_dt + fp_dt)\n",
    "print(f'Specificity: {round(spec_dt,4)}')\n",
    "\n",
    "# What is the sensitivity of our test set?\n",
    "sens_dt = tp_dt / (tp_dt + fn_dt)\n",
    "print(f'Sensitivty: {round(sens_dt,4)}')"
   ]
  },
  {
   "cell_type": "markdown",
   "metadata": {},
   "source": [
    "# Random Forest "
   ]
  },
  {
   "cell_type": "code",
   "execution_count": 17,
   "metadata": {},
   "outputs": [],
   "source": [
    "pipe_c_rf = Pipeline([('cvec', CountVectorizer()),\n",
    "                  ('rf', RandomForestClassifier())\n",
    "                  ])\n",
    "\n",
    "pipe_t_rf = Pipeline([('tvec', TfidfVectorizer()),\n",
    "                  ('rf', RandomForestClassifier())\n",
    "                  ])"
   ]
  },
  {
   "cell_type": "code",
   "execution_count": 18,
   "metadata": {},
   "outputs": [
    {
     "name": "stdout",
     "output_type": "stream",
     "text": [
      "Model:Countvectorizer\n",
      "Best Train Score = 0.9854981084489282\n",
      "Best Test Score = 0.8110831234256927\n",
      "Best Overall Score = 0.8121059268600253\n",
      "Best Parameters = {'cvec__max_df': 0.75, 'cvec__max_features': 500, 'cvec__min_df': 2, 'cvec__ngram_range': (1, 4), 'cvec__stop_words': None}\n",
      "Model:TfidfVectorizer\n",
      "Best Train Score = 0.9924337957124842\n",
      "Best Test Score = 0.836272040302267\n",
      "Best Overall Score = 0.8064312736443884\n",
      "Best Parameters = {'tvec__max_df': 0.8, 'tvec__max_features': 1000, 'tvec__min_df': 5, 'tvec__ngram_range': (1, 4), 'tvec__stop_words': None}\n"
     ]
    }
   ],
   "source": [
    "pipes = [pipe_c_rf, pipe_t_rf]\n",
    "pipe_param = [pipe_para_cvec, pipe_para_tfidf]\n",
    "pipe_names = ['Countvectorizer', 'TfidfVectorizer']\n",
    "\n",
    "for i in range(0, len(pipe_names)):  \n",
    "\n",
    "    gs_rf = GridSearchCV(pipes[i],\n",
    "                  param_grid=pipe_param[i], \n",
    "                  cv=3)\n",
    "                \n",
    "    gs_rf.fit(X_train, y_train)\n",
    "    gs_estimator_rf = gs_rf.best_estimator_\n",
    "              \n",
    "    print(f\"Model:{pipe_names[i]}\")\n",
    "    print(f\"Best Train Score = {gs_estimator_rf.score(X_train, y_train)}\")\n",
    "    print(f\"Best Test Score = {gs_estimator_rf.score(X_test, y_test)}\")\n",
    "    print(f\"Best Overall Score = {gs_rf.best_score_}\")\n",
    "    print(f\"Best Parameters = {gs_rf.best_params_}\")"
   ]
  },
  {
   "cell_type": "code",
   "execution_count": 23,
   "metadata": {},
   "outputs": [
    {
     "name": "stdout",
     "output_type": "stream",
     "text": [
      "Pipeline(memory=None,\n",
      "         steps=[('tvec',\n",
      "                 TfidfVectorizer(analyzer='word', binary=False,\n",
      "                                 decode_error='strict',\n",
      "                                 dtype=<class 'numpy.float64'>,\n",
      "                                 encoding='utf-8', input='content',\n",
      "                                 lowercase=True, max_df=0.8, max_features=1000,\n",
      "                                 min_df=5, ngram_range=(1, 4), norm='l2',\n",
      "                                 preprocessor=None, smooth_idf=True,\n",
      "                                 stop_words=None, strip_accents=None,\n",
      "                                 sublinear_tf=False,\n",
      "                                 token_pattern='(...\n",
      "                 RandomForestClassifier(bootstrap=True, class_weight=None,\n",
      "                                        criterion='gini', max_depth=None,\n",
      "                                        max_features='auto',\n",
      "                                        max_leaf_nodes=None,\n",
      "                                        min_impurity_decrease=0.0,\n",
      "                                        min_impurity_split=None,\n",
      "                                        min_samples_leaf=1, min_samples_split=2,\n",
      "                                        min_weight_fraction_leaf=0.0,\n",
      "                                        n_estimators=10, n_jobs=None,\n",
      "                                        oob_score=False, random_state=None,\n",
      "                                        verbose=0, warm_start=False))],\n",
      "         verbose=False)\n"
     ]
    }
   ],
   "source": [
    "print(gs_estimator_rf)"
   ]
  },
  {
   "cell_type": "code",
   "execution_count": 21,
   "metadata": {},
   "outputs": [
    {
     "data": {
      "text/html": [
       "<div>\n",
       "<style scoped>\n",
       "    .dataframe tbody tr th:only-of-type {\n",
       "        vertical-align: middle;\n",
       "    }\n",
       "\n",
       "    .dataframe tbody tr th {\n",
       "        vertical-align: top;\n",
       "    }\n",
       "\n",
       "    .dataframe thead th {\n",
       "        text-align: right;\n",
       "    }\n",
       "</style>\n",
       "<table border=\"1\" class=\"dataframe\">\n",
       "  <thead>\n",
       "    <tr style=\"text-align: right;\">\n",
       "      <th></th>\n",
       "      <th>Predicted Real</th>\n",
       "      <th>Predicted Fake</th>\n",
       "    </tr>\n",
       "  </thead>\n",
       "  <tbody>\n",
       "    <tr>\n",
       "      <td>Actually Real</td>\n",
       "      <td>182</td>\n",
       "      <td>18</td>\n",
       "    </tr>\n",
       "    <tr>\n",
       "      <td>Actually Fake</td>\n",
       "      <td>47</td>\n",
       "      <td>150</td>\n",
       "    </tr>\n",
       "  </tbody>\n",
       "</table>\n",
       "</div>"
      ],
      "text/plain": [
       "               Predicted Real  Predicted Fake\n",
       "Actually Real             182              18\n",
       "Actually Fake              47             150"
      ]
     },
     "execution_count": 21,
     "metadata": {},
     "output_type": "execute_result"
    }
   ],
   "source": [
    "#Let's generate predictions\n",
    "cvec_preds_rf = gs_estimator_rf.predict(X_test)\n",
    "\n",
    "#And make our confusion matrix\n",
    "cvec_cm_rf = confusion_matrix(y_test, cvec_preds_rf)\n",
    "cvec_cm_rf_df = pd.DataFrame(cvec_cm_rf, columns=[\"Predicted Real\", \"Predicted Fake\"], \n",
    "                             index=['Actually Real', 'Actually Fake'])\n",
    "\n",
    "cvec_cm_rf_df"
   ]
  },
  {
   "cell_type": "code",
   "execution_count": 22,
   "metadata": {},
   "outputs": [
    {
     "name": "stdout",
     "output_type": "stream",
     "text": [
      "Specificity: 0.91\n",
      "Sensitivty: 0.7614\n"
     ]
    }
   ],
   "source": [
    "#Now let's get our metrics \n",
    "tn_rf, fp_rf, fn_rf, tp_rf = confusion_matrix(y_test, cvec_preds_rf).ravel()\n",
    "\n",
    "# What is the specificity of our test set?\n",
    "spec_rf = tn_rf / (tn_rf + fp_rf)\n",
    "print(f'Specificity: {round(spec_rf,4)}')\n",
    "\n",
    "# What is the sensitivity of our test set?\n",
    "sens_rf = tp_rf / (tp_rf + fn_rf)\n",
    "print(f'Sensitivty: {round(sens_rf,4)}')"
   ]
  },
  {
   "cell_type": "markdown",
   "metadata": {},
   "source": [
    "# XGBOOST"
   ]
  },
  {
   "cell_type": "code",
   "execution_count": 24,
   "metadata": {},
   "outputs": [],
   "source": [
    "pipe_c_xgb = Pipeline([('cvec', CountVectorizer()),\n",
    "                  ('xgb', XGBClassifier())\n",
    "                  ])\n",
    "\n",
    "pipe_t_xgb = Pipeline([('tvec', TfidfVectorizer()),\n",
    "                  ('xgb', XGBClassifier())\n",
    "                  ])"
   ]
  },
  {
   "cell_type": "code",
   "execution_count": 25,
   "metadata": {},
   "outputs": [
    {
     "name": "stdout",
     "output_type": "stream",
     "text": [
      "Model:Countvectorizer\n",
      "Best Train Score = 0.8329129886506935\n",
      "Best Test Score = 0.8035264483627204\n",
      "Best Overall Score = 0.7931904161412359\n",
      "Best Parameters = {'cvec__max_df': 0.75, 'cvec__max_features': 500, 'cvec__min_df': 2, 'cvec__ngram_range': (1, 2), 'cvec__stop_words': None}\n",
      "Model:TfidfVectorizer\n",
      "Best Train Score = 0.8619167717528373\n",
      "Best Test Score = 0.8136020151133502\n",
      "Best Overall Score = 0.7868852459016393\n",
      "Best Parameters = {'tvec__max_df': 0.75, 'tvec__max_features': 1000, 'tvec__min_df': 2, 'tvec__ngram_range': (1, 4), 'tvec__stop_words': None}\n"
     ]
    }
   ],
   "source": [
    "pipes = [pipe_c_xgb, pipe_t_xgb]\n",
    "pipe_param = [pipe_para_cvec, pipe_para_tfidf]\n",
    "pipe_names = ['Countvectorizer', 'TfidfVectorizer']\n",
    "\n",
    "for i in range(0, len(pipe_names)):  \n",
    "\n",
    "    gs_xgb = GridSearchCV(pipes[i],\n",
    "                  param_grid=pipe_param[i], \n",
    "                  cv=3)\n",
    "                \n",
    "    gs_xgb.fit(X_train, y_train)\n",
    "    gs_estimator_xgb = gs_xgb.best_estimator_\n",
    "              \n",
    "    print(f\"Model:{pipe_names[i]}\")\n",
    "    print(f\"Best Train Score = {gs_estimator_xgb.score(X_train, y_train)}\")\n",
    "    print(f\"Best Test Score = {gs_estimator_xgb.score(X_test, y_test)}\")\n",
    "    print(f\"Best Overall Score = {gs_xgb.best_score_}\")\n",
    "    print(f\"Best Parameters = {gs_xgb.best_params_}\")"
   ]
  },
  {
   "cell_type": "code",
   "execution_count": 26,
   "metadata": {},
   "outputs": [
    {
     "name": "stdout",
     "output_type": "stream",
     "text": [
      "Pipeline(memory=None,\n",
      "         steps=[('tvec',\n",
      "                 TfidfVectorizer(analyzer='word', binary=False,\n",
      "                                 decode_error='strict',\n",
      "                                 dtype=<class 'numpy.float64'>,\n",
      "                                 encoding='utf-8', input='content',\n",
      "                                 lowercase=True, max_df=0.75, max_features=1000,\n",
      "                                 min_df=2, ngram_range=(1, 4), norm='l2',\n",
      "                                 preprocessor=None, smooth_idf=True,\n",
      "                                 stop_words=None, strip_accents=None,\n",
      "                                 sublinear_tf=False,\n",
      "                                 token_pattern='...\n",
      "                 XGBClassifier(base_score=0.5, booster='gbtree',\n",
      "                               colsample_bylevel=1, colsample_bynode=1,\n",
      "                               colsample_bytree=1, gamma=0, learning_rate=0.1,\n",
      "                               max_delta_step=0, max_depth=3,\n",
      "                               min_child_weight=1, missing=None,\n",
      "                               n_estimators=100, n_jobs=1, nthread=None,\n",
      "                               objective='binary:logistic', random_state=0,\n",
      "                               reg_alpha=0, reg_lambda=1, scale_pos_weight=1,\n",
      "                               seed=None, silent=None, subsample=1,\n",
      "                               verbosity=1))],\n",
      "         verbose=False)\n"
     ]
    }
   ],
   "source": [
    "print(gs_estimator_xgb)"
   ]
  },
  {
   "cell_type": "code",
   "execution_count": 27,
   "metadata": {},
   "outputs": [
    {
     "data": {
      "text/html": [
       "<div>\n",
       "<style scoped>\n",
       "    .dataframe tbody tr th:only-of-type {\n",
       "        vertical-align: middle;\n",
       "    }\n",
       "\n",
       "    .dataframe tbody tr th {\n",
       "        vertical-align: top;\n",
       "    }\n",
       "\n",
       "    .dataframe thead th {\n",
       "        text-align: right;\n",
       "    }\n",
       "</style>\n",
       "<table border=\"1\" class=\"dataframe\">\n",
       "  <thead>\n",
       "    <tr style=\"text-align: right;\">\n",
       "      <th></th>\n",
       "      <th>Predicted Real</th>\n",
       "      <th>Predicted Fake</th>\n",
       "    </tr>\n",
       "  </thead>\n",
       "  <tbody>\n",
       "    <tr>\n",
       "      <td>Actually Real</td>\n",
       "      <td>179</td>\n",
       "      <td>21</td>\n",
       "    </tr>\n",
       "    <tr>\n",
       "      <td>Actually Fake</td>\n",
       "      <td>53</td>\n",
       "      <td>144</td>\n",
       "    </tr>\n",
       "  </tbody>\n",
       "</table>\n",
       "</div>"
      ],
      "text/plain": [
       "               Predicted Real  Predicted Fake\n",
       "Actually Real             179              21\n",
       "Actually Fake              53             144"
      ]
     },
     "execution_count": 27,
     "metadata": {},
     "output_type": "execute_result"
    }
   ],
   "source": [
    "#Let's generate predictions\n",
    "cvec_preds_xgb = gs_estimator_xgb.predict(X_test)\n",
    "\n",
    "#And make our confusion matrix\n",
    "cvec_cm_xgb = confusion_matrix(y_test, cvec_preds_xgb)\n",
    "cvec_cm_xgb_df = pd.DataFrame(cvec_cm_xgb, columns=[\"Predicted Real\", \"Predicted Fake\"], \n",
    "                             index=['Actually Real', 'Actually Fake'])\n",
    "\n",
    "cvec_cm_xgb_df"
   ]
  },
  {
   "cell_type": "code",
   "execution_count": 28,
   "metadata": {},
   "outputs": [
    {
     "name": "stdout",
     "output_type": "stream",
     "text": [
      "Specificity: 0.895\n",
      "Sensitivty: 0.731\n"
     ]
    }
   ],
   "source": [
    "#Now let's get our metrics \n",
    "tn_xgb, fp_xgb, fn_xgb, tp_xgb = confusion_matrix(y_test, cvec_preds_xgb).ravel()\n",
    "\n",
    "# What is the specificity of our test set?\n",
    "spec_xgb = tn_xgb / (tn_xgb + fp_xgb)\n",
    "print(f'Specificity: {round(spec_xgb,4)}')\n",
    "\n",
    "# What is the sensitivity of our test set?\n",
    "sens_xgb = tp_xgb / (tp_xgb + fn_xgb)\n",
    "print(f'Sensitivty: {round(sens_xgb,4)}')"
   ]
  }
 ],
 "metadata": {
  "kernelspec": {
   "display_name": "Python 3",
   "language": "python",
   "name": "python3"
  },
  "language_info": {
   "codemirror_mode": {
    "name": "ipython",
    "version": 3
   },
   "file_extension": ".py",
   "mimetype": "text/x-python",
   "name": "python",
   "nbconvert_exporter": "python",
   "pygments_lexer": "ipython3",
   "version": "3.7.4"
  }
 },
 "nbformat": 4,
 "nbformat_minor": 2
}
